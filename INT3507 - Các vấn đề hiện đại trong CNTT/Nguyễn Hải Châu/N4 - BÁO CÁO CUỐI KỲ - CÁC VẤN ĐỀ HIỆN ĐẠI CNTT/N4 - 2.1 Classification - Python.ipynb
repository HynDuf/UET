{
 "cells": [
  {
   "cell_type": "markdown",
   "id": "0762891a",
   "metadata": {},
   "source": [
    "# 2.1. Conformal prediction for classification problems - Python\n",
    "\n",
    "## Mục lục\n",
    "\n",
    "- <a href='#1'>1. Xây dựng bài toán và xử lý dữ liệu </a>\n",
    "- <a href='#2'>2. Conformal Prediction tự cài đặt </a>\n",
    "    - <a href='#2.1'>2.1. Phương pháp LAC </a>\n",
    "    - <a href='#2.2'>2.2. Phương pháp Top-K </a>\n",
    "    - <a href='#2.3'>2.3. Phương pháp APS (Adaptive Prediction Sets) </a>\n",
    "- <a href='#3'>3. Conformal Prediction sử dụng thư viện MAPIE</a>\n",
    "    - <a href='#3.1'>3.1. Phương pháp LAC </a>\n",
    "    - <a href='#3.2'>3.2. Phương pháp Top-K </a>\n",
    "    - <a href='#3.3'>3.3. Phương pháp APS (Adaptive Prediction Sets) </a>\n",
    "- <a href='#4'>4. Tham khảo</a>\n",
    "\n",
    "\n",
    "## Nhóm 4:\n",
    "- Huỳnh Tiến Dũng - 21020007\n",
    "- Hoàng Văn Nguyên - 21020370\n",
    "- Vũ Quốc Tuấn - 21020033"
   ]
  },
  {
   "cell_type": "markdown",
   "id": "b49624f4",
   "metadata": {},
   "source": [
    "## <a id='1'>1. Xây dựng bài toán và xử lý dữ liệu\n",
    "    \n",
    "**Yêu cầu**: Sử dụng bộ dữ liệu `huang-401.csv` để thực hiện conformal prediction, trong đó cần phỏng đoán biến\n",
    "`phase` từ các biến `vec`, `delta`, `deltachi`, `deltahmix`, `deltasmix`. Giải thích chi tiết từng bước\n",
    "thực hiện."
   ]
  },
  {
   "cell_type": "code",
   "execution_count": 1,
   "id": "afa7a07e",
   "metadata": {},
   "outputs": [],
   "source": [
    "import numpy as np\n",
    "import pandas as pd\n",
    "import matplotlib.pyplot as plt\n",
    "from sklearn.metrics import accuracy_score"
   ]
  },
  {
   "cell_type": "markdown",
   "id": "4bfe2b58",
   "metadata": {},
   "source": [
    "Đọc dữ liệu đầu vào `data/huang-401.csv`"
   ]
  },
  {
   "cell_type": "code",
   "execution_count": 2,
   "id": "6f160f52",
   "metadata": {},
   "outputs": [
    {
     "name": "stdout",
     "output_type": "stream",
     "text": [
      "Shape: (401, 8)\n"
     ]
    },
    {
     "data": {
      "text/html": [
       "<div>\n",
       "<style scoped>\n",
       "    .dataframe tbody tr th:only-of-type {\n",
       "        vertical-align: middle;\n",
       "    }\n",
       "\n",
       "    .dataframe tbody tr th {\n",
       "        vertical-align: top;\n",
       "    }\n",
       "\n",
       "    .dataframe thead th {\n",
       "        text-align: right;\n",
       "    }\n",
       "</style>\n",
       "<table border=\"1\" class=\"dataframe\">\n",
       "  <thead>\n",
       "    <tr style=\"text-align: right;\">\n",
       "      <th></th>\n",
       "      <th>composition</th>\n",
       "      <th>vec</th>\n",
       "      <th>deltachi</th>\n",
       "      <th>delta</th>\n",
       "      <th>deltahmix</th>\n",
       "      <th>deltasmix</th>\n",
       "      <th>phase</th>\n",
       "      <th>reference</th>\n",
       "    </tr>\n",
       "  </thead>\n",
       "  <tbody>\n",
       "    <tr>\n",
       "      <th>0</th>\n",
       "      <td>AgAlCoCrCuNi</td>\n",
       "      <td>8.34</td>\n",
       "      <td>0.129</td>\n",
       "      <td>6.59</td>\n",
       "      <td>2.00</td>\n",
       "      <td>14.90</td>\n",
       "      <td>SS+IM</td>\n",
       "      <td>[1]</td>\n",
       "    </tr>\n",
       "    <tr>\n",
       "      <th>1</th>\n",
       "      <td>AlAuCoCrCuNi</td>\n",
       "      <td>8.34</td>\n",
       "      <td>0.303</td>\n",
       "      <td>6.53</td>\n",
       "      <td>-6.45</td>\n",
       "      <td>14.90</td>\n",
       "      <td>SS+IM</td>\n",
       "      <td>[1]</td>\n",
       "    </tr>\n",
       "    <tr>\n",
       "      <th>2</th>\n",
       "      <td>AlCoCrCu0.5Fe</td>\n",
       "      <td>7.00</td>\n",
       "      <td>0.117</td>\n",
       "      <td>5.87</td>\n",
       "      <td>-6.12</td>\n",
       "      <td>13.14</td>\n",
       "      <td>SS+IM</td>\n",
       "      <td>[2]</td>\n",
       "    </tr>\n",
       "    <tr>\n",
       "      <th>3</th>\n",
       "      <td>AlCoCrCuFe</td>\n",
       "      <td>7.40</td>\n",
       "      <td>0.118</td>\n",
       "      <td>5.58</td>\n",
       "      <td>-2.56</td>\n",
       "      <td>13.38</td>\n",
       "      <td>SS+IM</td>\n",
       "      <td>[3]</td>\n",
       "    </tr>\n",
       "    <tr>\n",
       "      <th>4</th>\n",
       "      <td>AlCoCrCuFeMnNi</td>\n",
       "      <td>7.72</td>\n",
       "      <td>0.140</td>\n",
       "      <td>5.18</td>\n",
       "      <td>-5.64</td>\n",
       "      <td>16.18</td>\n",
       "      <td>SS+IM</td>\n",
       "      <td>[4]</td>\n",
       "    </tr>\n",
       "  </tbody>\n",
       "</table>\n",
       "</div>"
      ],
      "text/plain": [
       "      composition   vec  deltachi  delta  deltahmix  deltasmix  phase  \\\n",
       "0    AgAlCoCrCuNi  8.34     0.129   6.59       2.00      14.90  SS+IM   \n",
       "1    AlAuCoCrCuNi  8.34     0.303   6.53      -6.45      14.90  SS+IM   \n",
       "2   AlCoCrCu0.5Fe  7.00     0.117   5.87      -6.12      13.14  SS+IM   \n",
       "3      AlCoCrCuFe  7.40     0.118   5.58      -2.56      13.38  SS+IM   \n",
       "4  AlCoCrCuFeMnNi  7.72     0.140   5.18      -5.64      16.18  SS+IM   \n",
       "\n",
       "  reference  \n",
       "0       [1]  \n",
       "1       [1]  \n",
       "2       [2]  \n",
       "3       [3]  \n",
       "4       [4]  "
      ]
     },
     "execution_count": 2,
     "metadata": {},
     "output_type": "execute_result"
    }
   ],
   "source": [
    "huang = pd.read_csv('data/huang-401.csv')\n",
    "print(\"Shape:\", huang.shape)\n",
    "huang.head()"
   ]
  },
  {
   "cell_type": "markdown",
   "id": "7a2084c7",
   "metadata": {},
   "source": [
    "Tiếp đến, xem các giá trị khác nhau của nhãn `phase` và tần suất xuất hiện của chúng."
   ]
  },
  {
   "cell_type": "code",
   "execution_count": 3,
   "id": "c49585b3",
   "metadata": {},
   "outputs": [
    {
     "data": {
      "image/png": "[encoded data removed]",
      "text/plain": [
       "<Figure size 640x480 with 1 Axes>"
      ]
     },
     "metadata": {},
     "output_type": "display_data"
    }
   ],
   "source": [
    "# Get the frequency of each label\n",
    "label_counts = huang['phase'].value_counts()\n",
    "\n",
    "# Plot the frequencies\n",
    "label_counts.plot(kind='bar', color='skyblue', edgecolor='black')\n",
    "\n",
    "# Add labels and title\n",
    "plt.xlabel('Label')\n",
    "plt.ylabel('Frequency')\n",
    "plt.title('Label Frequencies')\n",
    "\n",
    "# Show the plot\n",
    "plt.show()"
   ]
  },
  {
   "cell_type": "markdown",
   "id": "ec369d01",
   "metadata": {},
   "source": [
    "Thực hiện label encoding, chuyển nhãn `phase` từ dạng xâu kí tự sang số nguyên như sau:\n",
    "- `IM`: 0\n",
    "- `SS`: 1\n",
    "- `SS+IM`: 2\n",
    "\n",
    "Tạo nhãn mới `phase_encoded` là số nguyên tương ứng của `phase`"
   ]
  },
  {
   "cell_type": "code",
   "execution_count": 4,
   "id": "7a0ea85c",
   "metadata": {},
   "outputs": [
    {
     "name": "stdout",
     "output_type": "stream",
     "text": [
      "Label Mapping:  {'IM': 0, 'SS': 1, 'SS+IM': 2}\n"
     ]
    },
    {
     "data": {
      "text/html": [
       "<div>\n",
       "<style scoped>\n",
       "    .dataframe tbody tr th:only-of-type {\n",
       "        vertical-align: middle;\n",
       "    }\n",
       "\n",
       "    .dataframe tbody tr th {\n",
       "        vertical-align: top;\n",
       "    }\n",
       "\n",
       "    .dataframe thead th {\n",
       "        text-align: right;\n",
       "    }\n",
       "</style>\n",
       "<table border=\"1\" class=\"dataframe\">\n",
       "  <thead>\n",
       "    <tr style=\"text-align: right;\">\n",
       "      <th></th>\n",
       "      <th>composition</th>\n",
       "      <th>vec</th>\n",
       "      <th>deltachi</th>\n",
       "      <th>delta</th>\n",
       "      <th>deltahmix</th>\n",
       "      <th>deltasmix</th>\n",
       "      <th>phase</th>\n",
       "      <th>reference</th>\n",
       "      <th>phase_encoded</th>\n",
       "    </tr>\n",
       "  </thead>\n",
       "  <tbody>\n",
       "    <tr>\n",
       "      <th>0</th>\n",
       "      <td>AgAlCoCrCuNi</td>\n",
       "      <td>8.34</td>\n",
       "      <td>0.129</td>\n",
       "      <td>6.59</td>\n",
       "      <td>2.00</td>\n",
       "      <td>14.90</td>\n",
       "      <td>SS+IM</td>\n",
       "      <td>[1]</td>\n",
       "      <td>2</td>\n",
       "    </tr>\n",
       "    <tr>\n",
       "      <th>1</th>\n",
       "      <td>AlAuCoCrCuNi</td>\n",
       "      <td>8.34</td>\n",
       "      <td>0.303</td>\n",
       "      <td>6.53</td>\n",
       "      <td>-6.45</td>\n",
       "      <td>14.90</td>\n",
       "      <td>SS+IM</td>\n",
       "      <td>[1]</td>\n",
       "      <td>2</td>\n",
       "    </tr>\n",
       "    <tr>\n",
       "      <th>2</th>\n",
       "      <td>AlCoCrCu0.5Fe</td>\n",
       "      <td>7.00</td>\n",
       "      <td>0.117</td>\n",
       "      <td>5.87</td>\n",
       "      <td>-6.12</td>\n",
       "      <td>13.14</td>\n",
       "      <td>SS+IM</td>\n",
       "      <td>[2]</td>\n",
       "      <td>2</td>\n",
       "    </tr>\n",
       "    <tr>\n",
       "      <th>3</th>\n",
       "      <td>AlCoCrCuFe</td>\n",
       "      <td>7.40</td>\n",
       "      <td>0.118</td>\n",
       "      <td>5.58</td>\n",
       "      <td>-2.56</td>\n",
       "      <td>13.38</td>\n",
       "      <td>SS+IM</td>\n",
       "      <td>[3]</td>\n",
       "      <td>2</td>\n",
       "    </tr>\n",
       "    <tr>\n",
       "      <th>4</th>\n",
       "      <td>AlCoCrCuFeMnNi</td>\n",
       "      <td>7.72</td>\n",
       "      <td>0.140</td>\n",
       "      <td>5.18</td>\n",
       "      <td>-5.64</td>\n",
       "      <td>16.18</td>\n",
       "      <td>SS+IM</td>\n",
       "      <td>[4]</td>\n",
       "      <td>2</td>\n",
       "    </tr>\n",
       "  </tbody>\n",
       "</table>\n",
       "</div>"
      ],
      "text/plain": [
       "      composition   vec  deltachi  delta  deltahmix  deltasmix  phase  \\\n",
       "0    AgAlCoCrCuNi  8.34     0.129   6.59       2.00      14.90  SS+IM   \n",
       "1    AlAuCoCrCuNi  8.34     0.303   6.53      -6.45      14.90  SS+IM   \n",
       "2   AlCoCrCu0.5Fe  7.00     0.117   5.87      -6.12      13.14  SS+IM   \n",
       "3      AlCoCrCuFe  7.40     0.118   5.58      -2.56      13.38  SS+IM   \n",
       "4  AlCoCrCuFeMnNi  7.72     0.140   5.18      -5.64      16.18  SS+IM   \n",
       "\n",
       "  reference  phase_encoded  \n",
       "0       [1]              2  \n",
       "1       [1]              2  \n",
       "2       [2]              2  \n",
       "3       [3]              2  \n",
       "4       [4]              2  "
      ]
     },
     "execution_count": 4,
     "metadata": {},
     "output_type": "execute_result"
    }
   ],
   "source": [
    "from sklearn.preprocessing import LabelEncoder\n",
    "# Initialize LabelEncoder\n",
    "le = LabelEncoder()\n",
    "\n",
    "# Fit and transform the 'phase' column\n",
    "huang['phase_encoded'] = le.fit_transform(huang['phase'].to_numpy())\n",
    "\n",
    "# Display the mapping between original labels and encoded integers\n",
    "label_mapping = dict(zip(le.classes_, le.transform(le.classes_)))\n",
    "print(\"Label Mapping: \", label_mapping)\n",
    "huang.head()"
   ]
  },
  {
   "cell_type": "markdown",
   "id": "75db58b7",
   "metadata": {},
   "source": [
    "Ta cần phỏng đoán biến `phase` (hay `phase_encoded`) từ các biến `vec`, `delta`, `deltachi`, `deltahmix`, `deltasmix`. Ta sẽ giữ lại những biến cần thiết và xây dựng dữ liệu tương ứng như sau:"
   ]
  },
  {
   "cell_type": "code",
   "execution_count": 5,
   "id": "01c51d74",
   "metadata": {},
   "outputs": [
    {
     "name": "stdout",
     "output_type": "stream",
     "text": [
      "0      2\n",
      "1      2\n",
      "2      2\n",
      "3      2\n",
      "4      2\n",
      "      ..\n",
      "396    1\n",
      "397    1\n",
      "398    1\n",
      "399    1\n",
      "400    1\n",
      "Name: phase_encoded, Length: 401, dtype: int64\n",
      "(401, 5)\n"
     ]
    }
   ],
   "source": [
    "X = huang[['vec', 'delta', 'deltachi', 'deltahmix', 'deltasmix']]\n",
    "y = huang['phase_encoded']\n",
    "print(y)\n",
    "print(X.shape)"
   ]
  },
  {
   "cell_type": "markdown",
   "id": "33c9b1ef",
   "metadata": {},
   "source": [
    "Sau đó, ta tách ra thành 3 tập dữ liệu là: tập train (80%), tập calibration (10%) và tập test (10%).\n",
    "\n",
    "Nhiều tỉ lệ khác nhau đã được thử nhưng tỉ lệ 80-10-10 cho kết quả tốt nhất. Tập train có đủ nhiều dữ liệu để mô hình không bị overfit."
   ]
  },
  {
   "cell_type": "code",
   "execution_count": 6,
   "id": "9582c373",
   "metadata": {},
   "outputs": [
    {
     "name": "stdout",
     "output_type": "stream",
     "text": [
      "Training set - X: (320, 5)  y: (320,)\n",
      "Calibration set - X: (40, 5)  y: (40,)\n",
      "Test set - X: (41, 5)  y: (41,)\n"
     ]
    }
   ],
   "source": [
    "from sklearn.model_selection import train_test_split\n",
    "seed = 42\n",
    "# Split the data into training (80%), calibration + test (20%)\n",
    "X_train, X_temp, y_train, y_temp = train_test_split(X, y, test_size=0.2, random_state=seed)\n",
    "\n",
    "# Split calibration + test into calibration (10%) and test (10%)\n",
    "X_calibrate, X_test, y_calibrate, y_test = train_test_split(X_temp, y_temp, test_size=0.5, random_state=seed)\n",
    "\n",
    "# Display the shapes of the resulting sets\n",
    "print(\"Training set - X:\", X_train.shape, \" y:\", y_train.shape)\n",
    "print(\"Calibration set - X:\", X_calibrate.shape, \" y:\", y_calibrate.shape)\n",
    "print(\"Test set - X:\", X_test.shape, \" y:\", y_test.shape)"
   ]
  },
  {
   "cell_type": "markdown",
   "id": "e4113a56",
   "metadata": {},
   "source": [
    "Sử dụng mô hình Random Forest Classifier cho bài toán (nhiều mô hình khác đã thử nhưng không cho kết quả tốt như Decision Tree, Gradient Boosting, Neural Network...). \n",
    "\n",
    "Sau đó, thử in độ chính xác của mô hình trên 3 tập dữ liệu. Ta dễ thấy do dữ liệu khá ít nên mô hình bị overfit ở tập train (độ chính xác 100%) và mô hình tệ hơn ở tập calibration và tập test."
   ]
  },
  {
   "cell_type": "code",
   "execution_count": 7,
   "id": "597eff53",
   "metadata": {},
   "outputs": [
    {
     "name": "stdout",
     "output_type": "stream",
     "text": [
      "Training set accuracy: 1.0\n",
      "Calibration set accuracy: 0.725\n",
      "Test set accuracy: 0.5853658536585366\n"
     ]
    }
   ],
   "source": [
    "from sklearn.ensemble import RandomForestClassifier\n",
    "# Initialize the Random Forest Classifier\n",
    "model = RandomForestClassifier(random_state=seed)\n",
    "\n",
    "# Fit the model on the training data\n",
    "model.fit(X_train, y_train)\n",
    "\n",
    "# Calculate accuracy on the training set\n",
    "y_train_pred = model.predict(X_train)\n",
    "accuracy_train = accuracy_score(y_train, y_train_pred)\n",
    "print(\"Training set accuracy:\", accuracy_train)\n",
    "\n",
    "# Calculate accuracy on the calibration set\n",
    "y_cal_pred = model.predict(X_calibrate)\n",
    "accuracy_cal = accuracy_score(y_calibrate, y_cal_pred)\n",
    "print(\"Calibration set accuracy:\", accuracy_cal)\n",
    "\n",
    "# Calculate accuracy on the tebst set\n",
    "y_test_pred = model.predict(X_test)\n",
    "accuracy_test = accuracy_score(y_test, y_test_pred)\n",
    "print(\"Test set accuracy:\", accuracy_test)"
   ]
  },
  {
   "cell_type": "markdown",
   "id": "5f738f6d",
   "metadata": {},
   "source": [
    "## <a id='2'>2. Conformal Prediction tự cài đặt\n",
    "\n",
    "Các phương pháp được đề cập sau đây bao gồm:\n",
    "- LAC\n",
    "- Top-K\n",
    "- APS (Adaptive Prediction Sets)\n",
    "\n",
    "Ngoài ra, còn nhiều phương pháp khác không được để cập ở đây nhưng được tích hợp trong thư viện MAPIE như Regularized Adaptive Prediction Sets (RAPS), Split- and cross-conformal...\n",
    "    \n",
    "Nguồn tham khảo: [MAPIE - Theoretical Description Classification](https://mapie.readthedocs.io/en/latest/theoretical_description_classification.html) "
   ]
  },
  {
   "cell_type": "markdown",
   "id": "d0acdffc",
   "metadata": {},
   "source": [
    "### <a id='2.1'>2.1. Phương pháp LAC "
   ]
  },
  {
   "cell_type": "markdown",
   "id": "468652c6",
   "metadata": {},
   "source": [
    "Trong phương pháp LAC, \"conformity score\" $s_i$ được định nghĩa là 1 trừ điểm số của nhãn thực sự. Đối với mỗi quan sát $i$ trong tập calibration ($\\hat{\\mu}(X_i)_{Y_i}$ là xác suất của nhãn $Y_i$ mà mô hình dự đoán thông qua quan sát $X_i$):\n",
    "\n",
    "$$s_i(X_i, Y_i) = 1 - \\hat{\\mu}(X_i)_{Y_i}$$\n",
    "\n",
    "Khi các \"conformity score\" ${s_1, ..., s_n}$ được tính toán cho tất cả các quan sát, chúng ta tính giá trị $ (n+1)*(1-\\alpha)/n$ quantile $\\hat{q}$ theo công thức sau:\n",
    "\n",
    "$$\\hat{q} = Quantile \\left(s_1, ..., s_n ; \\frac{\\lceil(n+1)(1-\\alpha)\\rceil}{n}\\right)$$\n",
    "\n",
    "Cuối cùng, chúng ta xây dựng một tập dự đoán bằng cách bao gồm tất cả các nhãn có điểm số cao hơn quantile ước lượng:\n",
    "\n",
    "$$\\hat{C}(X_{test}) = \\{y : \\hat{\\mu}(X_{test})_y \\geq 1 - \\hat{q}\\}$$\n",
    "\n",
    "Phương pháp đơn giản này cho phép chúng ta xây dựng các tập dự đoán có đảm bảo lý thuyết về phủ biên. Tuy nhiên, mặc dù phương pháp này thường dẫn đến các tập dự đoán nhỏ, nó có xu hướng tạo ra các tập trống khi mô hình không chắc chắn, ví dụ như ở biên giữa hai lớp.\n",
    "\n",
    "Ở phần cài đặt, đầu tiên, ta sẽ tính toán \"conformity score\" $s_i$ trên tập dữ liệu calibration."
   ]
  },
  {
   "cell_type": "code",
   "execution_count": 8,
   "id": "9448c59f",
   "metadata": {
    "scrolled": true
   },
   "outputs": [
    {
     "data": {
      "text/plain": [
       "(array([[0.  , 0.08, 0.92],\n",
       "        [0.  , 0.76, 0.24],\n",
       "        [0.01, 0.12, 0.87],\n",
       "        [0.39, 0.01, 0.6 ],\n",
       "        [0.  , 0.2 , 0.8 ]]),\n",
       " array([0.92, 0.76, 0.87, 0.6 , 0.8 ]),\n",
       " array([0.08, 0.24, 0.13, 0.4 , 0.2 ]))"
      ]
     },
     "execution_count": 8,
     "metadata": {},
     "output_type": "execute_result"
    }
   ],
   "source": [
    "# Size of calibration data\n",
    "n = len(X_calibrate)\n",
    "\n",
    "# Get the probability predictions on X_calibrate\n",
    "preds = model.predict_proba(X_calibrate)\n",
    "\n",
    "# Get the probability for the true class\n",
    "prob_true = preds[np.arange(n), y_calibrate]\n",
    "\n",
    "# Calculate non-conformity score s_i of the LAC method\n",
    "scores = 1 - prob_true\n",
    "\n",
    "preds[:5], prob_true[:5], scores[:5]"
   ]
  },
  {
   "cell_type": "markdown",
   "id": "f61cf53d",
   "metadata": {},
   "source": [
    "Tiếp theo, tính toán vị trí cut-off $\\hat{q}$ thỏa mãn $90\\%$ (tương ứng với $\\alpha = 0.1$) số lượng $s_i$ là nhỏ hơn ($=90\\%$ quantile). Sử dụng công thức $$q\\_level = \\dfrac{\\left \\lceil{(n + 1)} \\cdot (1-\\alpha)\\right \\rceil}{n}$$"
   ]
  },
  {
   "cell_type": "code",
   "execution_count": 9,
   "id": "82b8336b",
   "metadata": {
    "scrolled": true
   },
   "outputs": [
    {
     "data": {
      "text/plain": [
       "0.69"
      ]
     },
     "execution_count": 9,
     "metadata": {},
     "output_type": "execute_result"
    }
   ],
   "source": [
    "alpha = 0.1\n",
    "q_level = np.ceil((n+1) * (1-alpha)) / n\n",
    "qhat = np.quantile(scores, q_level, method='lower')\n",
    "qhat"
   ]
  },
  {
   "cell_type": "markdown",
   "id": "9d56fa2d",
   "metadata": {},
   "source": [
    "Tạo tập dự đoán trên bộ test (`y_ps_score`), giữ lại các dự đoán mà có tỉ lệ không chắc chắn lớn hơn hoặc bằng $1 - \\hat{q}$.\n",
    "\n",
    "- `real` là nhãn đúng của tập test.\n",
    "- `predset` là tập các nhãn mà mô hình dự đoán của tập test.\n",
    "- `coverage[i]` $=1$ nếu nhãn đúng (`real[i]`) thuộc tập nhãn mà mô hình dự đoán (`predset[i]`), ngược lại $=0$."
   ]
  },
  {
   "cell_type": "code",
   "execution_count": 10,
   "id": "f4ff5d44",
   "metadata": {
    "scrolled": true
   },
   "outputs": [
    {
     "data": {
      "text/plain": [
       "(array([[ True, False, False],\n",
       "        [False,  True,  True],\n",
       "        [False,  True,  True],\n",
       "        [False,  True, False],\n",
       "        [False, False,  True]]),\n",
       " ['IM', 'SS,SS+IM', 'SS,SS+IM', 'SS', 'SS+IM'])"
      ]
     },
     "execution_count": 10,
     "metadata": {},
     "output_type": "execute_result"
    }
   ],
   "source": [
    "y_ps_score = (model.predict_proba(X_test) >= 1 - qhat)\n",
    "\n",
    "real = le.classes_[huang['phase_encoded'][y_test.index]]\n",
    "predset = [''] * len(y_test)\n",
    "coverage = [0] * len(y_test)\n",
    "for i in range(len(y_test)):\n",
    "    predset[i] = ','.join(le.classes_[y_ps_score[i]])\n",
    "    if real[i] in le.classes_[y_ps_score[i]]:\n",
    "        coverage[i] = 1\n",
    "y_ps_score[:5], predset[:5]"
   ]
  },
  {
   "cell_type": "markdown",
   "id": "7db3b076",
   "metadata": {},
   "source": [
    "Tổng hợp kết quả của conformal prediction như sau:"
   ]
  },
  {
   "cell_type": "code",
   "execution_count": 11,
   "id": "9cf65280",
   "metadata": {
    "scrolled": true
   },
   "outputs": [
    {
     "data": {
      "text/html": [
       "<div>\n",
       "<style scoped>\n",
       "    .dataframe tbody tr th:only-of-type {\n",
       "        vertical-align: middle;\n",
       "    }\n",
       "\n",
       "    .dataframe tbody tr th {\n",
       "        vertical-align: top;\n",
       "    }\n",
       "\n",
       "    .dataframe thead th {\n",
       "        text-align: right;\n",
       "    }\n",
       "</style>\n",
       "<table border=\"1\" class=\"dataframe\">\n",
       "  <thead>\n",
       "    <tr style=\"text-align: right;\">\n",
       "      <th></th>\n",
       "      <th>actual</th>\n",
       "      <th>predicted</th>\n",
       "      <th>coverage</th>\n",
       "    </tr>\n",
       "  </thead>\n",
       "  <tbody>\n",
       "    <tr>\n",
       "      <th>0</th>\n",
       "      <td>SS</td>\n",
       "      <td>IM</td>\n",
       "      <td>0</td>\n",
       "    </tr>\n",
       "    <tr>\n",
       "      <th>1</th>\n",
       "      <td>SS+IM</td>\n",
       "      <td>SS,SS+IM</td>\n",
       "      <td>1</td>\n",
       "    </tr>\n",
       "    <tr>\n",
       "      <th>2</th>\n",
       "      <td>SS+IM</td>\n",
       "      <td>SS,SS+IM</td>\n",
       "      <td>1</td>\n",
       "    </tr>\n",
       "    <tr>\n",
       "      <th>3</th>\n",
       "      <td>SS</td>\n",
       "      <td>SS</td>\n",
       "      <td>1</td>\n",
       "    </tr>\n",
       "    <tr>\n",
       "      <th>4</th>\n",
       "      <td>IM</td>\n",
       "      <td>SS+IM</td>\n",
       "      <td>0</td>\n",
       "    </tr>\n",
       "  </tbody>\n",
       "</table>\n",
       "</div>"
      ],
      "text/plain": [
       "  actual predicted  coverage\n",
       "0     SS        IM         0\n",
       "1  SS+IM  SS,SS+IM         1\n",
       "2  SS+IM  SS,SS+IM         1\n",
       "3     SS        SS         1\n",
       "4     IM     SS+IM         0"
      ]
     },
     "execution_count": 11,
     "metadata": {},
     "output_type": "execute_result"
    }
   ],
   "source": [
    "# Summarize the result of conformal prediction\n",
    "result = pd.DataFrame(list(zip(real, predset, coverage)),\n",
    "                  columns=['actual', 'predicted', 'coverage'])\n",
    "result[:5]"
   ]
  },
  {
   "cell_type": "markdown",
   "id": "c8c794f4",
   "metadata": {},
   "source": [
    "Tính toán độ phủ của tập dự đoán của mô hình trên tập test."
   ]
  },
  {
   "cell_type": "code",
   "execution_count": 12,
   "id": "a0eebcce",
   "metadata": {
    "scrolled": false
   },
   "outputs": [
    {
     "name": "stdout",
     "output_type": "stream",
     "text": [
      "Coverage rate = 0.8292682926829268\n"
     ]
    }
   ],
   "source": [
    "# Calculate coverage rate\n",
    "print(\"Coverage rate =\", sum(result.coverage)/len(result))"
   ]
  },
  {
   "cell_type": "markdown",
   "id": "a8bb95a3",
   "metadata": {},
   "source": [
    "### <a id='2.2'>2.2. Phương pháp Top-K "
   ]
  },
  {
   "cell_type": "markdown",
   "id": "174c0925",
   "metadata": {},
   "source": [
    "Được giới thiệu trong <a href='#4'>[3]</a>, đặc điểm của phương pháp Top-K là nó sẽ cung cấp kích thước tập dự đoán giống nhau cho tất cả các quan sát. \n",
    "\n",
    "Giá trị \"conformity score\" là thứ hạng (rank) của nhãn đúng, với các điểm $\\hat{\\mu}(X_i)_{Y_i}$ được xếp hạng từ cao đến thấp. \n",
    "\n",
    "Các tập dự đoán được xây dựng bằng cách lấy $\\hat{q}^{th}$ điểm số cao nhất. Quy trình được mô tả trong các phương trình sau:\n",
    "\n",
    "$$s_i(X_i, Y_i) = j \\quad \\text{với} \\quad Y_i = \\pi_j \\quad \\text{vaf} \\quad \\hat{\\mu}(X_i)_{\\pi_1} > ... > \\hat{\\mu}(X_i)_{\\pi_j} > ... > \\hat{\\mu}(X_i)_{\\pi_n}$$\n",
    "\n",
    "$$\\hat{q} = \\left \\lceil Quantile \\left(s_1, ..., s_n ; \\frac{\\lceil(n+1)(1-\\alpha)\\rceil}{n}\\right) \\right\\rceil$$\n",
    "\n",
    "$$\\hat{C}(X_{test}) = \\{\\pi_1, ..., \\pi_{\\hat{q}}\\}$$\n",
    "\n",
    "Giống như các phương pháp khác, quy trình này cho phép người dùng xây dựng các tập dự đoán với đảm bảo về phủ biên."
   ]
  },
  {
   "cell_type": "code",
   "execution_count": 13,
   "id": "61933d09",
   "metadata": {},
   "outputs": [],
   "source": [
    "def convert_to_ranks(arr):\n",
    "    ranks = np.apply_along_axis(lambda x: (-x).argsort().argsort(), axis=1, arr=arr)\n",
    "\n",
    "    return ranks\n",
    "\n",
    "def get_topK(arr, q_hat):\n",
    "    ranks = np.apply_along_axis(lambda x: (-x).argsort().argsort(), axis=1, arr=arr)\n",
    "\n",
    "    topK = (ranks <= q_hat)\n",
    "\n",
    "    return topK"
   ]
  },
  {
   "cell_type": "code",
   "execution_count": 14,
   "id": "f36bca4a",
   "metadata": {
    "scrolled": true
   },
   "outputs": [
    {
     "data": {
      "text/plain": [
       "(array([[0.  , 0.08, 0.92],\n",
       "        [0.  , 0.76, 0.24],\n",
       "        [0.01, 0.12, 0.87],\n",
       "        [0.39, 0.01, 0.6 ],\n",
       "        [0.  , 0.2 , 0.8 ]]),\n",
       " array([[2, 1, 0],\n",
       "        [2, 0, 1],\n",
       "        [2, 1, 0],\n",
       "        [1, 2, 0],\n",
       "        [2, 1, 0]]),\n",
       " array([0, 0, 0, 0, 0]))"
      ]
     },
     "execution_count": 14,
     "metadata": {},
     "output_type": "execute_result"
    }
   ],
   "source": [
    "# Size of calibration data\n",
    "n = len(X_calibrate)\n",
    "\n",
    "# Get the probability predictions on X_calibrate\n",
    "preds = model.predict_proba(X_calibrate)\n",
    "\n",
    "# Get the rank for the true class\n",
    "ranks = convert_to_ranks(preds)\n",
    "\n",
    "# Calculate non-conformity score s_i of the Top-K method\n",
    "scores = ranks[np.arange(n), y_calibrate]\n",
    "\n",
    "preds[:5], ranks[:5], scores[:5]"
   ]
  },
  {
   "cell_type": "code",
   "execution_count": 15,
   "id": "0b3d30de",
   "metadata": {},
   "outputs": [
    {
     "data": {
      "text/plain": [
       "1.0"
      ]
     },
     "execution_count": 15,
     "metadata": {},
     "output_type": "execute_result"
    }
   ],
   "source": [
    "alpha = 0.1\n",
    "q_level = np.ceil((n+1) * (1-alpha)) / n\n",
    "qhat = np.ceil(np.quantile(scores, q_level, method='lower'))\n",
    "qhat"
   ]
  },
  {
   "cell_type": "code",
   "execution_count": 16,
   "id": "df7dac79",
   "metadata": {
    "scrolled": true
   },
   "outputs": [
    {
     "data": {
      "text/plain": [
       "(array([[0.8 , 0.05, 0.15],\n",
       "        [0.1 , 0.33, 0.57],\n",
       "        [0.  , 0.57, 0.43],\n",
       "        [0.02, 0.81, 0.17],\n",
       "        [0.25, 0.1 , 0.65]]),\n",
       " array([[ True, False,  True],\n",
       "        [False,  True,  True],\n",
       "        [False,  True,  True],\n",
       "        [False,  True,  True],\n",
       "        [ True, False,  True]]),\n",
       " ['IM,SS+IM', 'SS,SS+IM', 'SS,SS+IM', 'SS,SS+IM', 'IM,SS+IM'])"
      ]
     },
     "execution_count": 16,
     "metadata": {},
     "output_type": "execute_result"
    }
   ],
   "source": [
    "y_pred = model.predict_proba(X_test)\n",
    "y_ps_score = get_topK(y_pred, qhat)\n",
    "\n",
    "real = le.classes_[huang['phase_encoded'][y_test.index]]\n",
    "predset = [''] * len(y_test)\n",
    "coverage = [0] * len(y_test)\n",
    "for i in range(len(y_test)):\n",
    "    predset[i] = ','.join(le.classes_[y_ps_score[i]])\n",
    "    if real[i] in le.classes_[y_ps_score[i]]:\n",
    "        coverage[i] = 1\n",
    "y_pred[:5], y_ps_score[:5], predset[:5]"
   ]
  },
  {
   "cell_type": "code",
   "execution_count": 17,
   "id": "32c8e565",
   "metadata": {
    "scrolled": true
   },
   "outputs": [
    {
     "data": {
      "text/html": [
       "<div>\n",
       "<style scoped>\n",
       "    .dataframe tbody tr th:only-of-type {\n",
       "        vertical-align: middle;\n",
       "    }\n",
       "\n",
       "    .dataframe tbody tr th {\n",
       "        vertical-align: top;\n",
       "    }\n",
       "\n",
       "    .dataframe thead th {\n",
       "        text-align: right;\n",
       "    }\n",
       "</style>\n",
       "<table border=\"1\" class=\"dataframe\">\n",
       "  <thead>\n",
       "    <tr style=\"text-align: right;\">\n",
       "      <th></th>\n",
       "      <th>actual</th>\n",
       "      <th>predicted</th>\n",
       "      <th>coverage</th>\n",
       "    </tr>\n",
       "  </thead>\n",
       "  <tbody>\n",
       "    <tr>\n",
       "      <th>0</th>\n",
       "      <td>SS</td>\n",
       "      <td>IM,SS+IM</td>\n",
       "      <td>0</td>\n",
       "    </tr>\n",
       "    <tr>\n",
       "      <th>1</th>\n",
       "      <td>SS+IM</td>\n",
       "      <td>SS,SS+IM</td>\n",
       "      <td>1</td>\n",
       "    </tr>\n",
       "    <tr>\n",
       "      <th>2</th>\n",
       "      <td>SS+IM</td>\n",
       "      <td>SS,SS+IM</td>\n",
       "      <td>1</td>\n",
       "    </tr>\n",
       "    <tr>\n",
       "      <th>3</th>\n",
       "      <td>SS</td>\n",
       "      <td>SS,SS+IM</td>\n",
       "      <td>1</td>\n",
       "    </tr>\n",
       "    <tr>\n",
       "      <th>4</th>\n",
       "      <td>IM</td>\n",
       "      <td>IM,SS+IM</td>\n",
       "      <td>1</td>\n",
       "    </tr>\n",
       "  </tbody>\n",
       "</table>\n",
       "</div>"
      ],
      "text/plain": [
       "  actual predicted  coverage\n",
       "0     SS  IM,SS+IM         0\n",
       "1  SS+IM  SS,SS+IM         1\n",
       "2  SS+IM  SS,SS+IM         1\n",
       "3     SS  SS,SS+IM         1\n",
       "4     IM  IM,SS+IM         1"
      ]
     },
     "execution_count": 17,
     "metadata": {},
     "output_type": "execute_result"
    }
   ],
   "source": [
    "# Summarize the result of conformal prediction\n",
    "result = pd.DataFrame(list(zip(real, predset, coverage)),\n",
    "                  columns=['actual', 'predicted', 'coverage'])\n",
    "result[:5]"
   ]
  },
  {
   "cell_type": "code",
   "execution_count": 18,
   "id": "bd8de3b8",
   "metadata": {},
   "outputs": [
    {
     "name": "stdout",
     "output_type": "stream",
     "text": [
      "Coverage rate = 0.926829268292683\n"
     ]
    }
   ],
   "source": [
    "# Calculate coverage rate\n",
    "print(\"Coverage rate =\", sum(result.coverage)/len(result))"
   ]
  },
  {
   "cell_type": "markdown",
   "id": "6c38b578",
   "metadata": {},
   "source": [
    "### <a id='2.3'>2.3. Phương pháp APS (Adaptive Prediction Sets)"
   ]
  },
  {
   "cell_type": "markdown",
   "id": "7fcbaf36",
   "metadata": {},
   "source": [
    "Phương pháp được Adaptive Prediction Set (APS) vượt qua vấn đề gặp phải bởi phương pháp LAC thông qua việc xây dựng các tập dự đoán mà theo định nghĩa là không trống. Giá trị \"conformal score\" $s_i$ được tính bằng cách cộng tổng điểm số được xếp hạng của mỗi nhãn, từ cao đến thấp cho đến khi đạt đến nhãn thực sự của quan sát:\n",
    "\n",
    "$$s_i(X_i, Y_i) = \\sum^k_{j=1} \\hat{\\mu}(X_i)_{\\pi_j} \\quad \\text{where} \\quad Y_i = \\pi_k$$\n",
    "\n",
    "Sau đó, giá trị quantile $\\hat{q}$ được tính theo cùng cách như phương pháp LAC. Đối với việc xây dựng các tập dự đoán cho một điểm kiểm thử mới, quy trình cùng với việc cộng tổng xếp hạng được áp dụng cho đến khi đạt đến giá trị quantile, như mô tả trong phương trình sau:\n",
    "\n",
    "$$\\hat{C}(X_{test}) = \\{\\pi_1, ..., \\pi_k\\} \\quad \\text{where} \\quad k = \\text{inf}\\{k : \\sum^k_{j=1} \\hat{\\mu}(X_{test})_{\\pi_j} \\geq \\hat{q}\\}$$\n",
    "\n",
    "Mặc định, nhãn có tổng điểm số lớn hơn giá trị quantile sẽ được bao gồm trong tập dự đoán. Tuy nhiên, việc tính thêm có thể được chọn ngẫu nhiên dựa trên sự khác biệt giữa tổng điểm số tích lũy của nó và giá trị quantile để đảm bảo rằng phủ biên hiệu quả vẫn gần với phủ biên (marginal) mục tiêu. Đọc giả có thể đọc thêm <a href='#4'>[2, 3]</a> để biết thêm chi tiết về khía cạnh này."
   ]
  },
  {
   "cell_type": "code",
   "execution_count": 19,
   "id": "6b0c07b6",
   "metadata": {},
   "outputs": [],
   "source": [
    "def get_aps_scores(arr):\n",
    "    full_scores = np.empty_like(arr)\n",
    "    for i, row in enumerate(arr):\n",
    "        sorted_arr = np.cumsum(np.sort(row)[::-1])\n",
    "        temp = (-row).argsort()\n",
    "        ranks = np.empty_like(temp)\n",
    "        ranks[temp] = np.arange(len(row))\n",
    "        cumul = sorted_arr[ranks]\n",
    "        full_scores[i] = cumul\n",
    "    return full_scores\n",
    "def get_aps_y_ps_bool(arr, qhat):\n",
    "    y_ps_bool = np.empty_like(arr, dtype=bool)\n",
    "    for i, row in enumerate(arr):\n",
    "        sorted_arr = np.cumsum(np.sort(row)[::-1])\n",
    "        temp = (-row).argsort()\n",
    "        ranks = np.empty_like(temp)\n",
    "        ranks[temp] = np.arange(len(row))\n",
    "        index = np.searchsorted(sorted_arr, qhat, side='left')\n",
    "        y_ps_bool[i] = (ranks <= index)\n",
    "    return y_ps_bool"
   ]
  },
  {
   "cell_type": "code",
   "execution_count": 20,
   "id": "c637e466",
   "metadata": {
    "scrolled": true
   },
   "outputs": [
    {
     "data": {
      "text/plain": [
       "(array([[0.  , 0.08, 0.92],\n",
       "        [0.  , 0.76, 0.24],\n",
       "        [0.01, 0.12, 0.87],\n",
       "        [0.39, 0.01, 0.6 ],\n",
       "        [0.  , 0.2 , 0.8 ]]),\n",
       " array([[1.  , 1.  , 0.92],\n",
       "        [1.  , 0.76, 1.  ],\n",
       "        [1.  , 0.99, 0.87],\n",
       "        [0.99, 1.  , 0.6 ],\n",
       "        [1.  , 1.  , 0.8 ]]),\n",
       " array([0.57542309, 0.03745713, 0.23316527, 0.24080491, 0.67518509]))"
      ]
     },
     "execution_count": 20,
     "metadata": {},
     "output_type": "execute_result"
    }
   ],
   "source": [
    "from sklearn.utils import check_random_state\n",
    "# Size of calibration data\n",
    "n = len(X_calibrate)\n",
    "\n",
    "# Get the probability predictions on X_calibrate\n",
    "preds = model.predict_proba(X_calibrate)\n",
    "\n",
    "# Get the cumulative scores of all labels\n",
    "full_scores = get_aps_scores(preds)\n",
    "\n",
    "# Calculate non-conformity score s_i of the APS method\n",
    "scores = full_scores[np.arange(n), y_calibrate]\n",
    "\n",
    "# Apply random noise for tie-breaking\n",
    "random_state = check_random_state(seed)\n",
    "u = random_state.uniform(size=len(scores))\n",
    "prob_true = preds[np.arange(n), y_calibrate]\n",
    "scores -= u * prob_true\n",
    "\n",
    "preds[:5], full_scores[:5], scores[:5]"
   ]
  },
  {
   "cell_type": "code",
   "execution_count": 21,
   "id": "a602747f",
   "metadata": {},
   "outputs": [
    {
     "data": {
      "text/plain": [
       "0.8668380552278118"
      ]
     },
     "execution_count": 21,
     "metadata": {},
     "output_type": "execute_result"
    }
   ],
   "source": [
    "alpha = 0.1\n",
    "q_level = np.ceil((n+1) * (1-alpha)) / n\n",
    "qhat = np.quantile(scores, q_level, method='lower')\n",
    "qhat"
   ]
  },
  {
   "cell_type": "code",
   "execution_count": 22,
   "id": "fb14441f",
   "metadata": {},
   "outputs": [
    {
     "data": {
      "text/plain": [
       "(array([[0.8 , 0.05, 0.15],\n",
       "        [0.1 , 0.33, 0.57],\n",
       "        [0.  , 0.57, 0.43],\n",
       "        [0.02, 0.81, 0.17],\n",
       "        [0.25, 0.1 , 0.65]]),\n",
       " array([[ True, False,  True],\n",
       "        [False,  True,  True],\n",
       "        [False,  True,  True],\n",
       "        [False,  True,  True],\n",
       "        [ True, False,  True]]),\n",
       " ['IM,SS+IM', 'SS,SS+IM', 'SS,SS+IM', 'SS,SS+IM', 'IM,SS+IM'])"
      ]
     },
     "execution_count": 22,
     "metadata": {},
     "output_type": "execute_result"
    }
   ],
   "source": [
    "y_pred = model.predict_proba(X_test)\n",
    "y_ps_bool = get_aps_y_ps_bool(y_pred, qhat)\n",
    "real = le.classes_[huang['phase_encoded'][y_test.index]]\n",
    "predset = [''] * len(y_test)\n",
    "coverage = [0] * len(y_test)\n",
    "for i in range(len(y_test)):\n",
    "    predset[i] = ','.join(le.classes_[y_ps_bool[i]])\n",
    "    if real[i] in le.classes_[y_ps_bool[i]]:\n",
    "        coverage[i] = 1\n",
    "y_pred[:5], y_ps_bool[:5], predset[:5]"
   ]
  },
  {
   "cell_type": "code",
   "execution_count": 23,
   "id": "07d91a2f",
   "metadata": {
    "scrolled": true
   },
   "outputs": [
    {
     "data": {
      "text/html": [
       "<div>\n",
       "<style scoped>\n",
       "    .dataframe tbody tr th:only-of-type {\n",
       "        vertical-align: middle;\n",
       "    }\n",
       "\n",
       "    .dataframe tbody tr th {\n",
       "        vertical-align: top;\n",
       "    }\n",
       "\n",
       "    .dataframe thead th {\n",
       "        text-align: right;\n",
       "    }\n",
       "</style>\n",
       "<table border=\"1\" class=\"dataframe\">\n",
       "  <thead>\n",
       "    <tr style=\"text-align: right;\">\n",
       "      <th></th>\n",
       "      <th>actual</th>\n",
       "      <th>predicted</th>\n",
       "      <th>coverage</th>\n",
       "    </tr>\n",
       "  </thead>\n",
       "  <tbody>\n",
       "    <tr>\n",
       "      <th>0</th>\n",
       "      <td>SS</td>\n",
       "      <td>IM,SS+IM</td>\n",
       "      <td>0</td>\n",
       "    </tr>\n",
       "    <tr>\n",
       "      <th>1</th>\n",
       "      <td>SS+IM</td>\n",
       "      <td>SS,SS+IM</td>\n",
       "      <td>1</td>\n",
       "    </tr>\n",
       "    <tr>\n",
       "      <th>2</th>\n",
       "      <td>SS+IM</td>\n",
       "      <td>SS,SS+IM</td>\n",
       "      <td>1</td>\n",
       "    </tr>\n",
       "    <tr>\n",
       "      <th>3</th>\n",
       "      <td>SS</td>\n",
       "      <td>SS,SS+IM</td>\n",
       "      <td>1</td>\n",
       "    </tr>\n",
       "    <tr>\n",
       "      <th>4</th>\n",
       "      <td>IM</td>\n",
       "      <td>IM,SS+IM</td>\n",
       "      <td>1</td>\n",
       "    </tr>\n",
       "  </tbody>\n",
       "</table>\n",
       "</div>"
      ],
      "text/plain": [
       "  actual predicted  coverage\n",
       "0     SS  IM,SS+IM         0\n",
       "1  SS+IM  SS,SS+IM         1\n",
       "2  SS+IM  SS,SS+IM         1\n",
       "3     SS  SS,SS+IM         1\n",
       "4     IM  IM,SS+IM         1"
      ]
     },
     "execution_count": 23,
     "metadata": {},
     "output_type": "execute_result"
    }
   ],
   "source": [
    "# Summarize the result of conformal prediction\n",
    "result = pd.DataFrame(list(zip(real, predset, coverage)),\n",
    "                  columns=['actual', 'predicted', 'coverage'])\n",
    "result[:5]"
   ]
  },
  {
   "cell_type": "code",
   "execution_count": 24,
   "id": "4f73f0e2",
   "metadata": {},
   "outputs": [
    {
     "name": "stdout",
     "output_type": "stream",
     "text": [
      "Coverage rate = 0.975609756097561\n"
     ]
    }
   ],
   "source": [
    "# Calculate coverage rate\n",
    "print(\"Coverage rate =\", sum(result.coverage)/len(result))"
   ]
  },
  {
   "cell_type": "markdown",
   "id": "c25fa024",
   "metadata": {},
   "source": [
    "## <a id='3'>3. Conformal Prediction sử dụng thư viện MAPIE"
   ]
  },
  {
   "cell_type": "markdown",
   "id": "0aa08e93",
   "metadata": {},
   "source": [
    "### <a id='3.1'>3.1. Phương pháp LAC"
   ]
  },
  {
   "cell_type": "code",
   "execution_count": 25,
   "id": "853c8e1b",
   "metadata": {},
   "outputs": [],
   "source": [
    "from mapie.classification import MapieClassifier\n",
    "from mapie.metrics import classification_coverage_score"
   ]
  },
  {
   "cell_type": "markdown",
   "id": "4afc42d1",
   "metadata": {},
   "source": [
    "Sử dụng `model` đã xây dựng ở trên, ta sử dụng thư viện MAPIE để thực hiện conformal prediction. Sử dụng phương pháp `method=\"lac\"` tương tự như phương pháp tự cài đặt ở mục <a href='#2.1'>2.1</a>. MAPIE cung cấp nhiều phương pháp khác như `aps`, `raps`, `top_k`.\n",
    "\n",
    "Sử dụng cùng $\\alpha=0.1$, ta fit mô hình MAPIE với tập calibrate và dự đoán trên tập test để nhận được `y_ps_score` (tương tự với `y_ps_score` đã được tính ở phần tự cài đặt trên)."
   ]
  },
  {
   "cell_type": "code",
   "execution_count": 26,
   "id": "918116a4",
   "metadata": {
    "scrolled": true
   },
   "outputs": [
    {
     "data": {
      "text/plain": [
       "array([[ True, False, False],\n",
       "       [False,  True,  True],\n",
       "       [False,  True,  True],\n",
       "       [False,  True, False],\n",
       "       [False, False,  True]])"
      ]
     },
     "execution_count": 26,
     "metadata": {},
     "output_type": "execute_result"
    }
   ],
   "source": [
    "mapie_score = MapieClassifier(estimator=model, cv=\"prefit\", method=\"lac\", verbose=100, random_state=seed)\n",
    "mapie_score.fit(X_calibrate, y_calibrate)\n",
    "alpha = 0.1\n",
    "y_pred_score, y_ps_score = mapie_score.predict(X_test, alpha=alpha)\n",
    "y_ps_score = np.squeeze(y_ps_score)\n",
    "y_ps_score[:5]"
   ]
  },
  {
   "cell_type": "markdown",
   "id": "ebb98dc6",
   "metadata": {},
   "source": [
    "Tổng hợp kết quả tương tự như ở phần trên ta được:"
   ]
  },
  {
   "cell_type": "code",
   "execution_count": 27,
   "id": "5dd7dcdf",
   "metadata": {},
   "outputs": [],
   "source": [
    "real = le.classes_[huang['phase_encoded'][y_test.index]]\n",
    "predset = ['']*len(y_test)\n",
    "coverage = [0]*len(y_test)\n",
    "for i in range(len(y_test)):\n",
    "    predset[i] = ','.join(le.classes_[y_ps_score[i]])\n",
    "    if real[i] in le.classes_[y_ps_score[i]]:\n",
    "        coverage[i] = 1"
   ]
  },
  {
   "cell_type": "code",
   "execution_count": 28,
   "id": "71cc2a94",
   "metadata": {
    "scrolled": true
   },
   "outputs": [
    {
     "data": {
      "text/html": [
       "<div>\n",
       "<style scoped>\n",
       "    .dataframe tbody tr th:only-of-type {\n",
       "        vertical-align: middle;\n",
       "    }\n",
       "\n",
       "    .dataframe tbody tr th {\n",
       "        vertical-align: top;\n",
       "    }\n",
       "\n",
       "    .dataframe thead th {\n",
       "        text-align: right;\n",
       "    }\n",
       "</style>\n",
       "<table border=\"1\" class=\"dataframe\">\n",
       "  <thead>\n",
       "    <tr style=\"text-align: right;\">\n",
       "      <th></th>\n",
       "      <th>actual</th>\n",
       "      <th>predicted</th>\n",
       "      <th>coverage</th>\n",
       "    </tr>\n",
       "  </thead>\n",
       "  <tbody>\n",
       "    <tr>\n",
       "      <th>0</th>\n",
       "      <td>SS</td>\n",
       "      <td>IM</td>\n",
       "      <td>0</td>\n",
       "    </tr>\n",
       "    <tr>\n",
       "      <th>1</th>\n",
       "      <td>SS+IM</td>\n",
       "      <td>SS,SS+IM</td>\n",
       "      <td>1</td>\n",
       "    </tr>\n",
       "    <tr>\n",
       "      <th>2</th>\n",
       "      <td>SS+IM</td>\n",
       "      <td>SS,SS+IM</td>\n",
       "      <td>1</td>\n",
       "    </tr>\n",
       "    <tr>\n",
       "      <th>3</th>\n",
       "      <td>SS</td>\n",
       "      <td>SS</td>\n",
       "      <td>1</td>\n",
       "    </tr>\n",
       "    <tr>\n",
       "      <th>4</th>\n",
       "      <td>IM</td>\n",
       "      <td>SS+IM</td>\n",
       "      <td>0</td>\n",
       "    </tr>\n",
       "  </tbody>\n",
       "</table>\n",
       "</div>"
      ],
      "text/plain": [
       "  actual predicted  coverage\n",
       "0     SS        IM         0\n",
       "1  SS+IM  SS,SS+IM         1\n",
       "2  SS+IM  SS,SS+IM         1\n",
       "3     SS        SS         1\n",
       "4     IM     SS+IM         0"
      ]
     },
     "execution_count": 28,
     "metadata": {},
     "output_type": "execute_result"
    }
   ],
   "source": [
    "# Summarize the result of conformal prediction\n",
    "result = pd.DataFrame(list(zip(real, predset, coverage)),\n",
    "                  columns=['actual', 'predicted', 'coverage'])\n",
    "result[:5]"
   ]
  },
  {
   "cell_type": "markdown",
   "id": "f062b048",
   "metadata": {},
   "source": [
    "Độ phủ coverage rate tính được sử dụng thư viện MAPIE bằng với phương pháp tự cài đặt ở trên."
   ]
  },
  {
   "cell_type": "code",
   "execution_count": 29,
   "id": "e614f9d7",
   "metadata": {
    "scrolled": true
   },
   "outputs": [
    {
     "name": "stdout",
     "output_type": "stream",
     "text": [
      "0.8292682926829268\n"
     ]
    }
   ],
   "source": [
    "print(classification_coverage_score(y_test, y_ps_score))"
   ]
  },
  {
   "cell_type": "markdown",
   "id": "aacb621c",
   "metadata": {},
   "source": [
    "### <a id='3.2'>3.2. Phương pháp Top-K"
   ]
  },
  {
   "cell_type": "markdown",
   "id": "066c021a",
   "metadata": {},
   "source": [
    "Tương tự như đã cài đặt ở mục <a href='#2.2'>2.2</a>."
   ]
  },
  {
   "cell_type": "code",
   "execution_count": 30,
   "id": "06b04484",
   "metadata": {
    "scrolled": true
   },
   "outputs": [
    {
     "data": {
      "text/plain": [
       "(array([[ True, False,  True],\n",
       "        [False,  True,  True],\n",
       "        [False,  True,  True],\n",
       "        [False,  True,  True],\n",
       "        [ True, False,  True]]),\n",
       " array([0, 2, 1, 1, 2]))"
      ]
     },
     "execution_count": 30,
     "metadata": {},
     "output_type": "execute_result"
    }
   ],
   "source": [
    "mapie_score = MapieClassifier(estimator=model, cv=\"prefit\", method=\"top_k\", verbose=100, random_state=seed)\n",
    "mapie_score.fit(X_calibrate, y_calibrate)\n",
    "alpha = 0.1\n",
    "y_pred_score, y_ps_score = mapie_score.predict(X_test, alpha=alpha)\n",
    "y_ps_score = np.squeeze(y_ps_score)\n",
    "\n",
    "y_ps_score[:5], y_pred_score[:5]"
   ]
  },
  {
   "cell_type": "code",
   "execution_count": 31,
   "id": "63fd68bf",
   "metadata": {
    "scrolled": true
   },
   "outputs": [
    {
     "data": {
      "text/html": [
       "<div>\n",
       "<style scoped>\n",
       "    .dataframe tbody tr th:only-of-type {\n",
       "        vertical-align: middle;\n",
       "    }\n",
       "\n",
       "    .dataframe tbody tr th {\n",
       "        vertical-align: top;\n",
       "    }\n",
       "\n",
       "    .dataframe thead th {\n",
       "        text-align: right;\n",
       "    }\n",
       "</style>\n",
       "<table border=\"1\" class=\"dataframe\">\n",
       "  <thead>\n",
       "    <tr style=\"text-align: right;\">\n",
       "      <th></th>\n",
       "      <th>actual</th>\n",
       "      <th>predicted</th>\n",
       "      <th>coverage</th>\n",
       "    </tr>\n",
       "  </thead>\n",
       "  <tbody>\n",
       "    <tr>\n",
       "      <th>0</th>\n",
       "      <td>SS</td>\n",
       "      <td>IM,SS+IM</td>\n",
       "      <td>0</td>\n",
       "    </tr>\n",
       "    <tr>\n",
       "      <th>1</th>\n",
       "      <td>SS+IM</td>\n",
       "      <td>SS,SS+IM</td>\n",
       "      <td>1</td>\n",
       "    </tr>\n",
       "    <tr>\n",
       "      <th>2</th>\n",
       "      <td>SS+IM</td>\n",
       "      <td>SS,SS+IM</td>\n",
       "      <td>1</td>\n",
       "    </tr>\n",
       "    <tr>\n",
       "      <th>3</th>\n",
       "      <td>SS</td>\n",
       "      <td>SS,SS+IM</td>\n",
       "      <td>1</td>\n",
       "    </tr>\n",
       "    <tr>\n",
       "      <th>4</th>\n",
       "      <td>IM</td>\n",
       "      <td>IM,SS+IM</td>\n",
       "      <td>1</td>\n",
       "    </tr>\n",
       "  </tbody>\n",
       "</table>\n",
       "</div>"
      ],
      "text/plain": [
       "  actual predicted  coverage\n",
       "0     SS  IM,SS+IM         0\n",
       "1  SS+IM  SS,SS+IM         1\n",
       "2  SS+IM  SS,SS+IM         1\n",
       "3     SS  SS,SS+IM         1\n",
       "4     IM  IM,SS+IM         1"
      ]
     },
     "execution_count": 31,
     "metadata": {},
     "output_type": "execute_result"
    }
   ],
   "source": [
    "real = le.classes_[huang['phase_encoded'][y_test.index]]\n",
    "predset = ['']*len(y_test)\n",
    "coverage = [0]*len(y_test)\n",
    "for i in range(len(y_test)):\n",
    "    predset[i] = ','.join(le.classes_[y_ps_score[i]])\n",
    "    if real[i] in le.classes_[y_ps_score[i]]:\n",
    "        coverage[i] = 1\n",
    "        \n",
    "# Summarize the result of conformal prediction\n",
    "result = pd.DataFrame(list(zip(real, predset, coverage)),\n",
    "                  columns=['actual', 'predicted', 'coverage'])\n",
    "result[:5]"
   ]
  },
  {
   "cell_type": "code",
   "execution_count": 32,
   "id": "80c18967",
   "metadata": {},
   "outputs": [
    {
     "name": "stdout",
     "output_type": "stream",
     "text": [
      "0.926829268292683\n"
     ]
    }
   ],
   "source": [
    "print(classification_coverage_score(y_test, y_ps_score))"
   ]
  },
  {
   "cell_type": "markdown",
   "id": "f74a9878",
   "metadata": {},
   "source": [
    "### <a id='3.3'>3.3. Phương pháp APS (Adaptive Prediction Sets)"
   ]
  },
  {
   "cell_type": "markdown",
   "id": "5b94efbb",
   "metadata": {},
   "source": [
    "Tương tự như đã cài đặt ở mục <a href='#2.3'>2.3</a>."
   ]
  },
  {
   "cell_type": "code",
   "execution_count": 33,
   "id": "56b20fe3",
   "metadata": {
    "scrolled": true
   },
   "outputs": [
    {
     "data": {
      "text/plain": [
       "(array([[ True, False,  True],\n",
       "        [False,  True,  True],\n",
       "        [False,  True,  True],\n",
       "        [False,  True,  True],\n",
       "        [ True, False,  True]]),\n",
       " array([0, 2, 1, 1, 2]))"
      ]
     },
     "execution_count": 33,
     "metadata": {},
     "output_type": "execute_result"
    }
   ],
   "source": [
    "mapie_score = MapieClassifier(estimator=model, cv=\"prefit\", method=\"aps\", verbose=100, random_state=seed)\n",
    "mapie_score.fit(X_calibrate, y_calibrate)\n",
    "alpha = 0.1\n",
    "y_pred_score, y_ps_score = mapie_score.predict(X_test, alpha=alpha)\n",
    "y_ps_score = np.squeeze(y_ps_score)\n",
    "\n",
    "y_ps_score[:5], y_pred_score[:5]"
   ]
  },
  {
   "cell_type": "code",
   "execution_count": 34,
   "id": "5bf27772",
   "metadata": {
    "scrolled": true
   },
   "outputs": [
    {
     "data": {
      "text/html": [
       "<div>\n",
       "<style scoped>\n",
       "    .dataframe tbody tr th:only-of-type {\n",
       "        vertical-align: middle;\n",
       "    }\n",
       "\n",
       "    .dataframe tbody tr th {\n",
       "        vertical-align: top;\n",
       "    }\n",
       "\n",
       "    .dataframe thead th {\n",
       "        text-align: right;\n",
       "    }\n",
       "</style>\n",
       "<table border=\"1\" class=\"dataframe\">\n",
       "  <thead>\n",
       "    <tr style=\"text-align: right;\">\n",
       "      <th></th>\n",
       "      <th>actual</th>\n",
       "      <th>predicted</th>\n",
       "      <th>coverage</th>\n",
       "    </tr>\n",
       "  </thead>\n",
       "  <tbody>\n",
       "    <tr>\n",
       "      <th>0</th>\n",
       "      <td>SS</td>\n",
       "      <td>IM,SS+IM</td>\n",
       "      <td>0</td>\n",
       "    </tr>\n",
       "    <tr>\n",
       "      <th>1</th>\n",
       "      <td>SS+IM</td>\n",
       "      <td>SS,SS+IM</td>\n",
       "      <td>1</td>\n",
       "    </tr>\n",
       "    <tr>\n",
       "      <th>2</th>\n",
       "      <td>SS+IM</td>\n",
       "      <td>SS,SS+IM</td>\n",
       "      <td>1</td>\n",
       "    </tr>\n",
       "    <tr>\n",
       "      <th>3</th>\n",
       "      <td>SS</td>\n",
       "      <td>SS,SS+IM</td>\n",
       "      <td>1</td>\n",
       "    </tr>\n",
       "    <tr>\n",
       "      <th>4</th>\n",
       "      <td>IM</td>\n",
       "      <td>IM,SS+IM</td>\n",
       "      <td>1</td>\n",
       "    </tr>\n",
       "  </tbody>\n",
       "</table>\n",
       "</div>"
      ],
      "text/plain": [
       "  actual predicted  coverage\n",
       "0     SS  IM,SS+IM         0\n",
       "1  SS+IM  SS,SS+IM         1\n",
       "2  SS+IM  SS,SS+IM         1\n",
       "3     SS  SS,SS+IM         1\n",
       "4     IM  IM,SS+IM         1"
      ]
     },
     "execution_count": 34,
     "metadata": {},
     "output_type": "execute_result"
    }
   ],
   "source": [
    "real = le.classes_[huang['phase_encoded'][y_test.index]]\n",
    "predset = ['']*len(y_test)\n",
    "coverage = [0]*len(y_test)\n",
    "for i in range(len(y_test)):\n",
    "    predset[i] = ','.join(le.classes_[y_ps_score[i]])\n",
    "    if real[i] in le.classes_[y_ps_score[i]]:\n",
    "        coverage[i] = 1\n",
    "        \n",
    "# Summarize the result of conformal prediction\n",
    "result = pd.DataFrame(list(zip(real, predset, coverage)),\n",
    "                  columns=['actual', 'predicted', 'coverage'])\n",
    "result[:5]"
   ]
  },
  {
   "cell_type": "code",
   "execution_count": 35,
   "id": "c2c3f886",
   "metadata": {},
   "outputs": [
    {
     "name": "stdout",
     "output_type": "stream",
     "text": [
      "0.975609756097561\n"
     ]
    }
   ],
   "source": [
    "print(classification_coverage_score(y_test, y_ps_score))"
   ]
  },
  {
   "cell_type": "markdown",
   "id": "de60fa87",
   "metadata": {},
   "source": [
    "## <a id='4'>4. Tham khảo\n",
    "    \n",
    "- [MAPIE - Theoretical Description Classification](https://mapie.readthedocs.io/en/latest/theoretical_description_classification.html)\n",
    "- [1] Mauricio Sadinle, Jing Lei, & Larry Wasserman. “Least Ambiguous Set-Valued Classifiers With Bounded Error Levels.” Journal of the American Statistical Association, 114:525, 223-234, 2019.\n",
    "- [2] Yaniv Romano, Matteo Sesia and Emmanuel J. Candès. “Classification with Valid and Adaptive Coverage.” NeurIPS 202 (spotlight), 2020.\n",
    "- [3] Anastasios Nikolas Angelopoulos, Stephen Bates, Michael Jordan and Jitendra Malik. “Uncertainty Sets for Image Classifiers using Conformal Prediction.” International Conference on Learning Representations 2021."
   ]
  }
 ],
 "metadata": {
  "kernelspec": {
   "display_name": "Python 3 (ipykernel)",
   "language": "python",
   "name": "python3"
  },
  "language_info": {
   "codemirror_mode": {
    "name": "ipython",
    "version": 3
   },
   "file_extension": ".py",
   "mimetype": "text/x-python",
   "name": "python",
   "nbconvert_exporter": "python",
   "pygments_lexer": "ipython3",
   "version": "3.11.5"
  }
 },
 "nbformat": 4,
 "nbformat_minor": 5
}
