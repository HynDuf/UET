{
 "cells": [
  {
   "cell_type": "markdown",
   "id": "07f6294c",
   "metadata": {},
   "source": [
    "# 2.2. Conformal prediction for regression problems - Python\n",
    "\n",
    "## Mục lục\n",
    "\n",
    "- <a href='#1'>1. Xây dựng bài toán và xử lý dữ liệu </a>\n",
    "- <a href='#2'>2. Conformal Prediction tự cài đặt </a>\n",
    "    - <a href='#2.1'>2.1. Phương pháp Split </a>\n",
    "    - <a href='#2.2'>2.2. Phương pháp Jackknife+ </a>\n",
    "    - <a href='#2.3'>2.3. Phương pháp Jackknife-minimax </a>\n",
    "- <a href='#3'>3. Conformal Prediction sử dụng thư viện MAPIE</a>\n",
    "    - <a href='#3.1'>3.1. Phương pháp Split </a>\n",
    "    - <a href='#3.2'>3.2. Phương pháp Jackknife+ </a>\n",
    "    - <a href='#3.3'>3.3. Phương pháp Jackknife-minimax </a>\n",
    "- <a href='#4'>4. Tham khảo</a>\n",
    "\n",
    "## Nhóm 4:\n",
    "- Huỳnh Tiến Dũng - 21020007\n",
    "- Hoàng Văn Nguyên - 21020370\n",
    "- Vũ Quốc Tuấn - 21020033"
   ]
  },
  {
   "cell_type": "markdown",
   "id": "21a47352",
   "metadata": {},
   "source": [
    "## <a id='1'>1. Xây dựng bài toán và xử lý dữ liệu\n",
    "    \n",
    "**Yêu cầu**: Sử dụng bộ dữ liệu `ys1a.csv` để thực hiện conformal prediction, trong đó cần phỏng đoán biến `ys` từ các biến `vec`, `delta`, `deltachi`, `deltahmix`, `deltasmix`. Giải thích chi tiết từng bước thực hiện."
   ]
  },
  {
   "cell_type": "code",
   "execution_count": 1,
   "id": "e0a92941",
   "metadata": {},
   "outputs": [],
   "source": [
    "import numpy as np\n",
    "import pandas as pd\n",
    "import matplotlib.pyplot as plt"
   ]
  },
  {
   "cell_type": "markdown",
   "id": "3591d33b",
   "metadata": {},
   "source": [
    "Đọc dữ liệu đầu vào `data/ys1a.csv`"
   ]
  },
  {
   "cell_type": "code",
   "execution_count": 2,
   "id": "f8ab9554",
   "metadata": {},
   "outputs": [
    {
     "name": "stdout",
     "output_type": "stream",
     "text": [
      "Shape: (377, 16)\n"
     ]
    },
    {
     "data": {
      "text/html": [
       "<div>\n",
       "<style scoped>\n",
       "    .dataframe tbody tr th:only-of-type {\n",
       "        vertical-align: middle;\n",
       "    }\n",
       "\n",
       "    .dataframe tbody tr th {\n",
       "        vertical-align: top;\n",
       "    }\n",
       "\n",
       "    .dataframe thead th {\n",
       "        text-align: right;\n",
       "    }\n",
       "</style>\n",
       "<table border=\"1\" class=\"dataframe\">\n",
       "  <thead>\n",
       "    <tr style=\"text-align: right;\">\n",
       "      <th></th>\n",
       "      <th>composition</th>\n",
       "      <th>vec</th>\n",
       "      <th>deltachi</th>\n",
       "      <th>delta</th>\n",
       "      <th>deltahmix</th>\n",
       "      <th>deltasmix</th>\n",
       "      <th>ref</th>\n",
       "      <th>phase</th>\n",
       "      <th>density</th>\n",
       "      <th>hv</th>\n",
       "      <th>testtype</th>\n",
       "      <th>ys</th>\n",
       "      <th>ysmax</th>\n",
       "      <th>elongation</th>\n",
       "      <th>ym</th>\n",
       "      <th>group</th>\n",
       "    </tr>\n",
       "  </thead>\n",
       "  <tbody>\n",
       "    <tr>\n",
       "      <th>0</th>\n",
       "      <td>CoFeNi</td>\n",
       "      <td>9.000000</td>\n",
       "      <td>0.032998</td>\n",
       "      <td>0.327647</td>\n",
       "      <td>-1.333333</td>\n",
       "      <td>9.134371</td>\n",
       "      <td>4</td>\n",
       "      <td>FCC</td>\n",
       "      <td>8.5</td>\n",
       "      <td>125.0</td>\n",
       "      <td>C</td>\n",
       "      <td>204.0</td>\n",
       "      <td>NaN</td>\n",
       "      <td>NaN</td>\n",
       "      <td>207.0</td>\n",
       "      <td>Al-Co-Cr-Fe-Mn-Ni</td>\n",
       "    </tr>\n",
       "    <tr>\n",
       "      <th>1</th>\n",
       "      <td>CoFeNi</td>\n",
       "      <td>9.000000</td>\n",
       "      <td>0.032998</td>\n",
       "      <td>0.327647</td>\n",
       "      <td>-1.333333</td>\n",
       "      <td>9.134371</td>\n",
       "      <td>4</td>\n",
       "      <td>FCC</td>\n",
       "      <td>8.5</td>\n",
       "      <td>125.0</td>\n",
       "      <td>C</td>\n",
       "      <td>209.0</td>\n",
       "      <td>NaN</td>\n",
       "      <td>NaN</td>\n",
       "      <td>207.0</td>\n",
       "      <td>Al-Co-Cr-Fe-Mn-Ni</td>\n",
       "    </tr>\n",
       "    <tr>\n",
       "      <th>2</th>\n",
       "      <td>CoFeNi</td>\n",
       "      <td>9.000000</td>\n",
       "      <td>0.032998</td>\n",
       "      <td>0.327647</td>\n",
       "      <td>-1.333333</td>\n",
       "      <td>9.134371</td>\n",
       "      <td>5</td>\n",
       "      <td>FCC</td>\n",
       "      <td>8.5</td>\n",
       "      <td>NaN</td>\n",
       "      <td>T</td>\n",
       "      <td>211.0</td>\n",
       "      <td>513.0</td>\n",
       "      <td>31</td>\n",
       "      <td>207.0</td>\n",
       "      <td>Al-Co-Cr-Fe-Mn-Ni</td>\n",
       "    </tr>\n",
       "    <tr>\n",
       "      <th>3</th>\n",
       "      <td>CoFeNiSi0.25</td>\n",
       "      <td>8.615385</td>\n",
       "      <td>0.032490</td>\n",
       "      <td>2.025282</td>\n",
       "      <td>-11.834320</td>\n",
       "      <td>10.686521</td>\n",
       "      <td>4</td>\n",
       "      <td>FCC</td>\n",
       "      <td>7.7</td>\n",
       "      <td>149.0</td>\n",
       "      <td>C</td>\n",
       "      <td>196.0</td>\n",
       "      <td>NaN</td>\n",
       "      <td>NaN</td>\n",
       "      <td>194.0</td>\n",
       "      <td>Al-Co-Cr-Fe-Mn-Ni</td>\n",
       "    </tr>\n",
       "    <tr>\n",
       "      <th>4</th>\n",
       "      <td>CoFeNiSi0.5</td>\n",
       "      <td>8.285714</td>\n",
       "      <td>0.031944</td>\n",
       "      <td>2.657710</td>\n",
       "      <td>-19.428571</td>\n",
       "      <td>11.239357</td>\n",
       "      <td>4</td>\n",
       "      <td>FCC+Im</td>\n",
       "      <td>7.1</td>\n",
       "      <td>287.0</td>\n",
       "      <td>C</td>\n",
       "      <td>476.0</td>\n",
       "      <td>NaN</td>\n",
       "      <td>NaN</td>\n",
       "      <td>NaN</td>\n",
       "      <td>Al-Co-Cr-Fe-Mn-Ni</td>\n",
       "    </tr>\n",
       "  </tbody>\n",
       "</table>\n",
       "</div>"
      ],
      "text/plain": [
       "    composition       vec  deltachi     delta  deltahmix  deltasmix ref  \\\n",
       "0        CoFeNi  9.000000  0.032998  0.327647  -1.333333   9.134371   4   \n",
       "1        CoFeNi  9.000000  0.032998  0.327647  -1.333333   9.134371   4   \n",
       "2        CoFeNi  9.000000  0.032998  0.327647  -1.333333   9.134371   5   \n",
       "3  CoFeNiSi0.25  8.615385  0.032490  2.025282 -11.834320  10.686521   4   \n",
       "4   CoFeNiSi0.5  8.285714  0.031944  2.657710 -19.428571  11.239357   4   \n",
       "\n",
       "    phase  density     hv testtype     ys  ysmax elongation     ym  \\\n",
       "0     FCC      8.5  125.0        C  204.0    NaN        NaN  207.0   \n",
       "1     FCC      8.5  125.0        C  209.0    NaN        NaN  207.0   \n",
       "2     FCC      8.5    NaN        T  211.0  513.0         31  207.0   \n",
       "3     FCC      7.7  149.0        C  196.0    NaN        NaN  194.0   \n",
       "4  FCC+Im      7.1  287.0        C  476.0    NaN        NaN    NaN   \n",
       "\n",
       "               group  \n",
       "0  Al-Co-Cr-Fe-Mn-Ni  \n",
       "1  Al-Co-Cr-Fe-Mn-Ni  \n",
       "2  Al-Co-Cr-Fe-Mn-Ni  \n",
       "3  Al-Co-Cr-Fe-Mn-Ni  \n",
       "4  Al-Co-Cr-Fe-Mn-Ni  "
      ]
     },
     "execution_count": 2,
     "metadata": {},
     "output_type": "execute_result"
    }
   ],
   "source": [
    "ys1a = pd.read_csv('data/ys1a.csv')\n",
    "print(\"Shape:\", ys1a.shape)\n",
    "ys1a.head()"
   ]
  },
  {
   "cell_type": "markdown",
   "id": "5789697a",
   "metadata": {},
   "source": [
    "Tiếp đến, ta xem phân bố giá trị của biến `ys`."
   ]
  },
  {
   "cell_type": "code",
   "execution_count": 3,
   "id": "05a94d1b",
   "metadata": {},
   "outputs": [
    {
     "data": {
      "image/png": "[encoded data removed]",
      "text/plain": [
       "<Figure size 640x480 with 1 Axes>"
      ]
     },
     "metadata": {},
     "output_type": "display_data"
    }
   ],
   "source": [
    "# Plotting histogram\n",
    "plt.hist(ys1a['ys'], bins=10, color='skyblue', edgecolor='black')\n",
    "\n",
    "# Adding labels and title\n",
    "plt.xlabel('`ys` values')\n",
    "plt.ylabel('Frequency')\n",
    "plt.title('Distribution of `ys`')\n",
    "\n",
    "# Show plot\n",
    "plt.show()"
   ]
  },
  {
   "cell_type": "markdown",
   "id": "ab96765a",
   "metadata": {},
   "source": [
    "Ta sẽ kiểm tra xem biến `ys` có giá trị NaN nào hay không."
   ]
  },
  {
   "cell_type": "code",
   "execution_count": 4,
   "id": "8c979990",
   "metadata": {},
   "outputs": [
    {
     "data": {
      "text/html": [
       "<div>\n",
       "<style scoped>\n",
       "    .dataframe tbody tr th:only-of-type {\n",
       "        vertical-align: middle;\n",
       "    }\n",
       "\n",
       "    .dataframe tbody tr th {\n",
       "        vertical-align: top;\n",
       "    }\n",
       "\n",
       "    .dataframe thead th {\n",
       "        text-align: right;\n",
       "    }\n",
       "</style>\n",
       "<table border=\"1\" class=\"dataframe\">\n",
       "  <thead>\n",
       "    <tr style=\"text-align: right;\">\n",
       "      <th></th>\n",
       "      <th>composition</th>\n",
       "      <th>vec</th>\n",
       "      <th>deltachi</th>\n",
       "      <th>delta</th>\n",
       "      <th>deltahmix</th>\n",
       "      <th>deltasmix</th>\n",
       "      <th>ref</th>\n",
       "      <th>phase</th>\n",
       "      <th>density</th>\n",
       "      <th>hv</th>\n",
       "      <th>testtype</th>\n",
       "      <th>ys</th>\n",
       "      <th>ysmax</th>\n",
       "      <th>elongation</th>\n",
       "      <th>ym</th>\n",
       "      <th>group</th>\n",
       "    </tr>\n",
       "  </thead>\n",
       "  <tbody>\n",
       "    <tr>\n",
       "      <th>10</th>\n",
       "      <td>CoCrFeNi</td>\n",
       "      <td>8.250000</td>\n",
       "      <td>0.096695</td>\n",
       "      <td>0.302116</td>\n",
       "      <td>-3.750000</td>\n",
       "      <td>11.526293</td>\n",
       "      <td>7</td>\n",
       "      <td>FCC</td>\n",
       "      <td>8.2</td>\n",
       "      <td>116.0</td>\n",
       "      <td>NaN</td>\n",
       "      <td>NaN</td>\n",
       "      <td>NaN</td>\n",
       "      <td>NaN</td>\n",
       "      <td>225.0</td>\n",
       "      <td>Al-Co-Cr-Fe-Mn-Ni</td>\n",
       "    </tr>\n",
       "    <tr>\n",
       "      <th>11</th>\n",
       "      <td>CoCrFeNi</td>\n",
       "      <td>8.250000</td>\n",
       "      <td>0.096695</td>\n",
       "      <td>0.302116</td>\n",
       "      <td>-3.750000</td>\n",
       "      <td>11.526293</td>\n",
       "      <td>7</td>\n",
       "      <td>FCC</td>\n",
       "      <td>8.2</td>\n",
       "      <td>113.0</td>\n",
       "      <td>NaN</td>\n",
       "      <td>NaN</td>\n",
       "      <td>NaN</td>\n",
       "      <td>NaN</td>\n",
       "      <td>225.0</td>\n",
       "      <td>Al-Co-Cr-Fe-Mn-Ni</td>\n",
       "    </tr>\n",
       "    <tr>\n",
       "      <th>12</th>\n",
       "      <td>CoCrFeMo0.5Ni</td>\n",
       "      <td>8.000000</td>\n",
       "      <td>0.140458</td>\n",
       "      <td>2.913949</td>\n",
       "      <td>-4.345679</td>\n",
       "      <td>13.145945</td>\n",
       "      <td>8</td>\n",
       "      <td>FCC+Im</td>\n",
       "      <td>8.5</td>\n",
       "      <td>210.0</td>\n",
       "      <td>NaN</td>\n",
       "      <td>NaN</td>\n",
       "      <td>NaN</td>\n",
       "      <td>NaN</td>\n",
       "      <td>NaN</td>\n",
       "      <td>Al-Co-Cr-Fe-Mn-Ni</td>\n",
       "    </tr>\n",
       "    <tr>\n",
       "      <th>18</th>\n",
       "      <td>CoCrFeNiTi</td>\n",
       "      <td>7.400000</td>\n",
       "      <td>0.141506</td>\n",
       "      <td>6.680562</td>\n",
       "      <td>-16.320000</td>\n",
       "      <td>13.381611</td>\n",
       "      <td>9</td>\n",
       "      <td>FCC</td>\n",
       "      <td>7.2</td>\n",
       "      <td>NaN</td>\n",
       "      <td>C</td>\n",
       "      <td>NaN</td>\n",
       "      <td>2020.0</td>\n",
       "      <td>9</td>\n",
       "      <td>135.0</td>\n",
       "      <td>Al-Co-Cr-Fe-Mn-Ni</td>\n",
       "    </tr>\n",
       "    <tr>\n",
       "      <th>19</th>\n",
       "      <td>Co1.5CrFeNi1.5Ti0.5</td>\n",
       "      <td>8.090909</td>\n",
       "      <td>0.121866</td>\n",
       "      <td>4.885036</td>\n",
       "      <td>-10.743802</td>\n",
       "      <td>12.859137</td>\n",
       "      <td>10</td>\n",
       "      <td>FCC</td>\n",
       "      <td>7.8</td>\n",
       "      <td>509.0</td>\n",
       "      <td>NaN</td>\n",
       "      <td>NaN</td>\n",
       "      <td>NaN</td>\n",
       "      <td>NaN</td>\n",
       "      <td>211.0</td>\n",
       "      <td>Al-Co-Cr-Fe-Mn-Ni</td>\n",
       "    </tr>\n",
       "  </tbody>\n",
       "</table>\n",
       "</div>"
      ],
      "text/plain": [
       "            composition       vec  deltachi     delta  deltahmix  deltasmix  \\\n",
       "10             CoCrFeNi  8.250000  0.096695  0.302116  -3.750000  11.526293   \n",
       "11             CoCrFeNi  8.250000  0.096695  0.302116  -3.750000  11.526293   \n",
       "12        CoCrFeMo0.5Ni  8.000000  0.140458  2.913949  -4.345679  13.145945   \n",
       "18           CoCrFeNiTi  7.400000  0.141506  6.680562 -16.320000  13.381611   \n",
       "19  Co1.5CrFeNi1.5Ti0.5  8.090909  0.121866  4.885036 -10.743802  12.859137   \n",
       "\n",
       "   ref   phase  density     hv testtype  ys   ysmax elongation     ym  \\\n",
       "10   7     FCC      8.2  116.0      NaN NaN     NaN        NaN  225.0   \n",
       "11   7     FCC      8.2  113.0      NaN NaN     NaN        NaN  225.0   \n",
       "12   8  FCC+Im      8.5  210.0      NaN NaN     NaN        NaN    NaN   \n",
       "18   9     FCC      7.2    NaN        C NaN  2020.0          9  135.0   \n",
       "19  10     FCC      7.8  509.0      NaN NaN     NaN        NaN  211.0   \n",
       "\n",
       "                group  \n",
       "10  Al-Co-Cr-Fe-Mn-Ni  \n",
       "11  Al-Co-Cr-Fe-Mn-Ni  \n",
       "12  Al-Co-Cr-Fe-Mn-Ni  \n",
       "18  Al-Co-Cr-Fe-Mn-Ni  \n",
       "19  Al-Co-Cr-Fe-Mn-Ni  "
      ]
     },
     "execution_count": 4,
     "metadata": {},
     "output_type": "execute_result"
    }
   ],
   "source": [
    "# Find NaN values in the 'label' column\n",
    "nan_values = ys1a['ys'].isna()\n",
    "\n",
    "# Display rows with NaN values in the 'label' column\n",
    "ys1a[nan_values].head()"
   ]
  },
  {
   "cell_type": "markdown",
   "id": "21b35008",
   "metadata": {},
   "source": [
    "Trong $377$ dòng dữ liệu có tới $178$ dòng có giá trị `ys` là NaN. Ta sẽ áp dụng cách xử lý đơn giản là xóa các dòng này đi khỏi tập dữ liệu. Dữ liệu còn lại $199$ dòng."
   ]
  },
  {
   "cell_type": "code",
   "execution_count": 5,
   "id": "3906e5c1",
   "metadata": {},
   "outputs": [
    {
     "data": {
      "text/html": [
       "<div>\n",
       "<style scoped>\n",
       "    .dataframe tbody tr th:only-of-type {\n",
       "        vertical-align: middle;\n",
       "    }\n",
       "\n",
       "    .dataframe tbody tr th {\n",
       "        vertical-align: top;\n",
       "    }\n",
       "\n",
       "    .dataframe thead th {\n",
       "        text-align: right;\n",
       "    }\n",
       "</style>\n",
       "<table border=\"1\" class=\"dataframe\">\n",
       "  <thead>\n",
       "    <tr style=\"text-align: right;\">\n",
       "      <th></th>\n",
       "      <th>composition</th>\n",
       "      <th>vec</th>\n",
       "      <th>deltachi</th>\n",
       "      <th>delta</th>\n",
       "      <th>deltahmix</th>\n",
       "      <th>deltasmix</th>\n",
       "      <th>ref</th>\n",
       "      <th>phase</th>\n",
       "      <th>density</th>\n",
       "      <th>hv</th>\n",
       "      <th>testtype</th>\n",
       "      <th>ys</th>\n",
       "      <th>ysmax</th>\n",
       "      <th>elongation</th>\n",
       "      <th>ym</th>\n",
       "      <th>group</th>\n",
       "    </tr>\n",
       "  </thead>\n",
       "  <tbody>\n",
       "    <tr>\n",
       "      <th>0</th>\n",
       "      <td>CoFeNi</td>\n",
       "      <td>9.000000</td>\n",
       "      <td>0.032998</td>\n",
       "      <td>0.327647</td>\n",
       "      <td>-1.333333</td>\n",
       "      <td>9.134371</td>\n",
       "      <td>4</td>\n",
       "      <td>FCC</td>\n",
       "      <td>8.5</td>\n",
       "      <td>125.0</td>\n",
       "      <td>C</td>\n",
       "      <td>204.0</td>\n",
       "      <td>NaN</td>\n",
       "      <td>NaN</td>\n",
       "      <td>207.0</td>\n",
       "      <td>Al-Co-Cr-Fe-Mn-Ni</td>\n",
       "    </tr>\n",
       "    <tr>\n",
       "      <th>1</th>\n",
       "      <td>CoFeNi</td>\n",
       "      <td>9.000000</td>\n",
       "      <td>0.032998</td>\n",
       "      <td>0.327647</td>\n",
       "      <td>-1.333333</td>\n",
       "      <td>9.134371</td>\n",
       "      <td>4</td>\n",
       "      <td>FCC</td>\n",
       "      <td>8.5</td>\n",
       "      <td>125.0</td>\n",
       "      <td>C</td>\n",
       "      <td>209.0</td>\n",
       "      <td>NaN</td>\n",
       "      <td>NaN</td>\n",
       "      <td>207.0</td>\n",
       "      <td>Al-Co-Cr-Fe-Mn-Ni</td>\n",
       "    </tr>\n",
       "    <tr>\n",
       "      <th>2</th>\n",
       "      <td>CoFeNi</td>\n",
       "      <td>9.000000</td>\n",
       "      <td>0.032998</td>\n",
       "      <td>0.327647</td>\n",
       "      <td>-1.333333</td>\n",
       "      <td>9.134371</td>\n",
       "      <td>5</td>\n",
       "      <td>FCC</td>\n",
       "      <td>8.5</td>\n",
       "      <td>NaN</td>\n",
       "      <td>T</td>\n",
       "      <td>211.0</td>\n",
       "      <td>513.0</td>\n",
       "      <td>31</td>\n",
       "      <td>207.0</td>\n",
       "      <td>Al-Co-Cr-Fe-Mn-Ni</td>\n",
       "    </tr>\n",
       "    <tr>\n",
       "      <th>3</th>\n",
       "      <td>CoFeNiSi0.25</td>\n",
       "      <td>8.615385</td>\n",
       "      <td>0.032490</td>\n",
       "      <td>2.025282</td>\n",
       "      <td>-11.834320</td>\n",
       "      <td>10.686521</td>\n",
       "      <td>4</td>\n",
       "      <td>FCC</td>\n",
       "      <td>7.7</td>\n",
       "      <td>149.0</td>\n",
       "      <td>C</td>\n",
       "      <td>196.0</td>\n",
       "      <td>NaN</td>\n",
       "      <td>NaN</td>\n",
       "      <td>194.0</td>\n",
       "      <td>Al-Co-Cr-Fe-Mn-Ni</td>\n",
       "    </tr>\n",
       "    <tr>\n",
       "      <th>4</th>\n",
       "      <td>CoFeNiSi0.5</td>\n",
       "      <td>8.285714</td>\n",
       "      <td>0.031944</td>\n",
       "      <td>2.657710</td>\n",
       "      <td>-19.428571</td>\n",
       "      <td>11.239357</td>\n",
       "      <td>4</td>\n",
       "      <td>FCC+Im</td>\n",
       "      <td>7.1</td>\n",
       "      <td>287.0</td>\n",
       "      <td>C</td>\n",
       "      <td>476.0</td>\n",
       "      <td>NaN</td>\n",
       "      <td>NaN</td>\n",
       "      <td>NaN</td>\n",
       "      <td>Al-Co-Cr-Fe-Mn-Ni</td>\n",
       "    </tr>\n",
       "  </tbody>\n",
       "</table>\n",
       "</div>"
      ],
      "text/plain": [
       "    composition       vec  deltachi     delta  deltahmix  deltasmix ref  \\\n",
       "0        CoFeNi  9.000000  0.032998  0.327647  -1.333333   9.134371   4   \n",
       "1        CoFeNi  9.000000  0.032998  0.327647  -1.333333   9.134371   4   \n",
       "2        CoFeNi  9.000000  0.032998  0.327647  -1.333333   9.134371   5   \n",
       "3  CoFeNiSi0.25  8.615385  0.032490  2.025282 -11.834320  10.686521   4   \n",
       "4   CoFeNiSi0.5  8.285714  0.031944  2.657710 -19.428571  11.239357   4   \n",
       "\n",
       "    phase  density     hv testtype     ys  ysmax elongation     ym  \\\n",
       "0     FCC      8.5  125.0        C  204.0    NaN        NaN  207.0   \n",
       "1     FCC      8.5  125.0        C  209.0    NaN        NaN  207.0   \n",
       "2     FCC      8.5    NaN        T  211.0  513.0         31  207.0   \n",
       "3     FCC      7.7  149.0        C  196.0    NaN        NaN  194.0   \n",
       "4  FCC+Im      7.1  287.0        C  476.0    NaN        NaN    NaN   \n",
       "\n",
       "               group  \n",
       "0  Al-Co-Cr-Fe-Mn-Ni  \n",
       "1  Al-Co-Cr-Fe-Mn-Ni  \n",
       "2  Al-Co-Cr-Fe-Mn-Ni  \n",
       "3  Al-Co-Cr-Fe-Mn-Ni  \n",
       "4  Al-Co-Cr-Fe-Mn-Ni  "
      ]
     },
     "execution_count": 5,
     "metadata": {},
     "output_type": "execute_result"
    }
   ],
   "source": [
    "ys1a.dropna(subset=['ys'], inplace=True)\n",
    "ys1a.head()"
   ]
  },
  {
   "cell_type": "markdown",
   "id": "a7074415",
   "metadata": {},
   "source": [
    "Ta cần phỏng đoán biến `ys` từ các biến `vec`, `delta`, `deltachi`, `deltahmix`, `deltasmix`. Ta sẽ giữ lại những biến cần thiết và xây dựng dữ liệu tương ứng như sau:"
   ]
  },
  {
   "cell_type": "code",
   "execution_count": 6,
   "id": "53929dbf",
   "metadata": {},
   "outputs": [
    {
     "data": {
      "text/plain": [
       "(        vec     delta  deltachi  deltahmix  deltasmix\n",
       " 0  9.000000  0.327647  0.032998  -1.333333   9.134371\n",
       " 1  9.000000  0.327647  0.032998  -1.333333   9.134371\n",
       " 2  9.000000  0.327647  0.032998  -1.333333   9.134371\n",
       " 3  8.615385  2.025282  0.032490 -11.834320  10.686521\n",
       " 4  8.285714  2.657710  0.031944 -19.428571  11.239357,\n",
       " 0    204.0\n",
       " 1    209.0\n",
       " 2    211.0\n",
       " 3    196.0\n",
       " 4    476.0\n",
       " Name: ys, dtype: float64)"
      ]
     },
     "execution_count": 6,
     "metadata": {},
     "output_type": "execute_result"
    }
   ],
   "source": [
    "X = ys1a[['vec', 'delta', 'deltachi', 'deltahmix', 'deltasmix']]\n",
    "y = ys1a['ys']\n",
    "X[:5], y[:5]"
   ]
  },
  {
   "cell_type": "markdown",
   "id": "3c91f7e1",
   "metadata": {},
   "source": [
    "Sau đó, ta tách ra thành 3 tập dữ liệu là: tập train (80%), tập calibration (10%) và tập test (10%)."
   ]
  },
  {
   "cell_type": "code",
   "execution_count": 7,
   "id": "d7b1541f",
   "metadata": {},
   "outputs": [
    {
     "name": "stdout",
     "output_type": "stream",
     "text": [
      "Training set - X: (159, 5)  y: (159,)\n",
      "Calibration set - X: (20, 5)  y: (20,)\n",
      "Test set - X: (20, 5)  y: (20,)\n"
     ]
    }
   ],
   "source": [
    "from sklearn.model_selection import train_test_split\n",
    "seed = 42\n",
    "# Split the data into training (80%), calibration + test (20%)\n",
    "X_train, X_temp, y_train, y_temp = train_test_split(X, y, test_size=0.2, random_state=seed)\n",
    "\n",
    "# Split calibration + test into calibration (10%) and test (10%)\n",
    "X_calibrate, X_test, y_calibrate, y_test = train_test_split(X_temp, y_temp, test_size=0.5, random_state=seed)\n",
    "\n",
    "# Display the shapes of the resulting sets\n",
    "print(\"Training set - X:\", X_train.shape, \" y:\", y_train.shape)\n",
    "print(\"Calibration set - X:\", X_calibrate.shape, \" y:\", y_calibrate.shape)\n",
    "print(\"Test set - X:\", X_test.shape, \" y:\", y_test.shape)"
   ]
  },
  {
   "cell_type": "markdown",
   "id": "58457b10",
   "metadata": {},
   "source": [
    "Sử dụng mô hình Linear Regression trên tập train. Sau đó, ta thử tính toán các hàm chi phí MSE, R-squared trên 3 tập dữ liệu."
   ]
  },
  {
   "cell_type": "code",
   "execution_count": 8,
   "id": "9320eb24",
   "metadata": {
    "scrolled": true
   },
   "outputs": [
    {
     "name": "stdout",
     "output_type": "stream",
     "text": [
      "Training set performance:\n",
      "Mean Squared Error: 196987.6888501888\n",
      "R-squared: 0.46451787296500924\n",
      "\n",
      "Calibration set performance:\n",
      "Mean Squared Error: 191572.51916767607\n",
      "R-squared: -0.45484899717439764\n",
      "\n",
      "Test set performance:\n",
      "Mean Squared Error: 195519.67971663835\n",
      "R-squared: 0.45359844913972713\n"
     ]
    }
   ],
   "source": [
    "from sklearn.linear_model import LinearRegression\n",
    "from sklearn.metrics import mean_squared_error, r2_score\n",
    "\n",
    "# Create a linear regression model\n",
    "model = LinearRegression()\n",
    "\n",
    "# Fit the model to the training data\n",
    "model.fit(X_train, y_train)\n",
    "\n",
    "# Predictions on the training set\n",
    "y_train_pred = model.predict(X_train)\n",
    "\n",
    "# Evaluate the model on the training set\n",
    "mse_train = mean_squared_error(y_train, y_train_pred)\n",
    "r2_train = r2_score(y_train, y_train_pred)\n",
    "\n",
    "print(\"Training set performance:\")\n",
    "print(\"Mean Squared Error:\", mse_train)\n",
    "print(\"R-squared:\", r2_train)\n",
    "\n",
    "# Predictions on the calibration set\n",
    "y_calibrate_pred = model.predict(X_calibrate)\n",
    "\n",
    "# Evaluate the model on the calibration set\n",
    "mse_calibrate = mean_squared_error(y_calibrate, y_calibrate_pred)\n",
    "r2_calibrate = r2_score(y_calibrate, y_calibrate_pred)\n",
    "\n",
    "print(\"\\nCalibration set performance:\")\n",
    "print(\"Mean Squared Error:\", mse_calibrate)\n",
    "print(\"R-squared:\", r2_calibrate)\n",
    "\n",
    "# Predictions on the test set\n",
    "y_test_pred = model.predict(X_test)\n",
    "\n",
    "# Evaluate the model on the test set\n",
    "mse_test = mean_squared_error(y_test, y_test_pred)\n",
    "r2_test = r2_score(y_test, y_test_pred)\n",
    "\n",
    "print(\"\\nTest set performance:\")\n",
    "print(\"Mean Squared Error:\", mse_test)\n",
    "print(\"R-squared:\", r2_test)"
   ]
  },
  {
   "cell_type": "markdown",
   "id": "e321c789",
   "metadata": {},
   "source": [
    "## <a id='2'>2. Conformal Prediction tự cài đặt"
   ]
  },
  {
   "cell_type": "markdown",
   "id": "22f38924",
   "metadata": {},
   "source": [
    "Các phương pháp được đề cập sau đây bao gồm:\n",
    "- Split\n",
    "- Jackknife+\n",
    "- Jackknife-minmax\n",
    "\n",
    "Ngoài ra, còn nhiều phương pháp khác không được để cập ở đây nhưng được tích hợp trong thư viện MAPIE như CV, CV+, CV-minmax, jackknife+-after-bootstrap, conformalized quantile regression (CQR), ensemble batch prediction intervals (EnbPI)...\n",
    "    \n",
    "Nguồn tham khảo: [MAPIE - Theoretical Description Regression](https://mapie.readthedocs.io/en/latest/theoretical_description_regression.html) "
   ]
  },
  {
   "cell_type": "markdown",
   "id": "ae0060a1",
   "metadata": {},
   "source": [
    "### <a id='2.1'>2.1. Phương pháp Split"
   ]
  },
  {
   "cell_type": "markdown",
   "id": "254bfae1",
   "metadata": {},
   "source": [
    "Phương pháp Split (chia tập train và tập calibration) tính toán các giá trị dư của một tập calibration để ước lượng sai số điển hình thu được trên một điểm dữ liệu kiểm thử mới. Khoảng dự đoán do đó được xác định bởi dự đoán thu được từ mô hình được huấn luyện trên tập train $\\pm$ quantiles của các \"conformity score\" từ tập calibration:\n",
    "\n",
    "$$\\hat{\\mu}(X_{n+1}) \\pm ((1-\\alpha) \\textrm{ quantile của } |Y_1-\\hat{\\mu}(X_1)|, ..., |Y_n-\\hat{\\mu}(X_n)|)$$\n",
    "\n",
    "hay\n",
    "\n",
    "$$\\hat{C}_{n, \\alpha}^{\\rm split}(X_{n+1}) = \\hat{\\mu}(X_{n+1}) \\pm \\hat{q}_{n, \\alpha}^+{|Y_i-\\hat{\\mu}(X_i)|}$$\n",
    "\n",
    "với $\\hat{q}_{n, \\alpha}^+$ là $(1-\\alpha)$ quantile của phân phối.\n",
    "\n",
    "Vì phương pháp này chỉ ước lượng \"conformity score\" trên tập hiệu chuẩn (calibration), nên phải có đủ quan sát để chia tách tập dữ liệu gốc thành tập huấn luyện (train) và tập hiệu chuẩn (calibration) như đã đề cập trong <a href='#4'>[2]</a>. Hơn nữa, phương pháp này luôn đưa ra khoảng dự đoán với độ rộng không đổi."
   ]
  },
  {
   "cell_type": "markdown",
   "id": "af774150",
   "metadata": {},
   "source": [
    "Sử dụng mô hình lấy kết quả dự đoán trên tập calibration"
   ]
  },
  {
   "cell_type": "code",
   "execution_count": 9,
   "id": "4497e2b3",
   "metadata": {},
   "outputs": [
    {
     "data": {
      "text/plain": [
       "array([1181.10126804, 1121.49574579,  970.55581404, 2017.31602095,\n",
       "       1994.13194964, 1383.59056049, 1451.8476106 , 2263.33750789,\n",
       "       1001.81183309, 1182.19543513, 1307.97658679, 1486.83241127,\n",
       "       1001.81183309, 1458.47570746, 1095.52526321, 1062.20177972,\n",
       "       1059.73115606,  794.03208905, 1062.20177972, 1061.74397424])"
      ]
     },
     "execution_count": 9,
     "metadata": {},
     "output_type": "execute_result"
    }
   ],
   "source": [
    "y_cal_pred = model.predict(X_calibrate)\n",
    "y_cal_pred"
   ]
  },
  {
   "cell_type": "markdown",
   "id": "e416476e",
   "metadata": {},
   "source": [
    "Tính toán sai số giữa nhãn thật và nhãn dự đoán của tập calibration."
   ]
  },
  {
   "cell_type": "code",
   "execution_count": 10,
   "id": "387c0827",
   "metadata": {},
   "outputs": [
    {
     "data": {
      "text/plain": [
       "324     236.898732\n",
       "309      78.504254\n",
       "27     1062.444186\n",
       "289     816.316021\n",
       "285     389.131950\n",
       "Name: ys, dtype: float64"
      ]
     },
     "execution_count": 10,
     "metadata": {},
     "output_type": "execute_result"
    }
   ],
   "source": [
    "y_cal_error = abs(y_cal_pred - y_calibrate)\n",
    "y_cal_error[:5]"
   ]
  },
  {
   "cell_type": "markdown",
   "id": "b8024f68",
   "metadata": {},
   "source": [
    "Tìm quantile tương ứng với $\\alpha = 10\\%$ trên tập sai số. Tham số `interpolation='higher'` tương ứng với sẽ sử dụng giá trị cao hơn nếu quantile mong muốn nằm giữa hai điểm dữ liệu."
   ]
  },
  {
   "cell_type": "code",
   "execution_count": 11,
   "id": "61dd665a",
   "metadata": {},
   "outputs": [
    {
     "data": {
      "text/plain": [
       "816.3160209508228"
      ]
     },
     "execution_count": 11,
     "metadata": {},
     "output_type": "execute_result"
    }
   ],
   "source": [
    "# Calculate 1-alpha quantile from the distribution of absolute errors\n",
    "alpha = 0.1\n",
    "quantile = y_cal_error.quantile(q=1-alpha, interpolation='higher')\n",
    "quantile"
   ]
  },
  {
   "cell_type": "markdown",
   "id": "7a60bb7e",
   "metadata": {},
   "source": [
    "Sử dụng mô hình lấy kết quả dự đoán trên tập test"
   ]
  },
  {
   "cell_type": "code",
   "execution_count": 12,
   "id": "6816b75f",
   "metadata": {},
   "outputs": [
    {
     "data": {
      "text/plain": [
       "array([1379.26648885, 1085.31438228, 1372.83419243, 1235.2434303 ,\n",
       "       1121.86272009,  496.46702153, 1793.90827493,  537.22286075,\n",
       "       1010.90816622, 1148.01497576, 1392.00331895, 1332.69496762,\n",
       "       1140.36997897, 1388.2691506 , 1733.47609702, 1037.94156147,\n",
       "        252.33572263,  909.31863556, 1310.1042846 , 1180.00206918])"
      ]
     },
     "execution_count": 12,
     "metadata": {},
     "output_type": "execute_result"
    }
   ],
   "source": [
    "y_test_pred = model.predict(X_test)\n",
    "y_test_pred"
   ]
  },
  {
   "cell_type": "markdown",
   "id": "da0f6ba5",
   "metadata": {},
   "source": [
    "Tính toán khoảng dự đoán dựa trên quantile (khoảng [`y_test_pred - quantile`, `y_test_pred + quantile` ]):\n",
    "- Khoảng trái `y_test_interval_pred_left = y_test_pred - quantile`\n",
    "- Khoảng phải `y_test_interval_pred_right = y_test_pred + quantile`"
   ]
  },
  {
   "cell_type": "code",
   "execution_count": 13,
   "id": "fd285d5a",
   "metadata": {},
   "outputs": [
    {
     "data": {
      "text/plain": [
       "(array([ 562.9504679 ,  268.99836133,  556.51817148,  418.92740935,\n",
       "         305.54669914, -319.84899942,  977.59225398, -279.0931602 ,\n",
       "         194.59214527,  331.69895481,  575.687298  ,  516.37894667,\n",
       "         324.05395802,  571.95312965,  917.16007607,  221.62554052,\n",
       "        -563.98029832,   93.00261461,  493.78826365,  363.68604823]),\n",
       " array([2195.5825098 , 1901.63040323, 2189.15021338, 2051.55945126,\n",
       "        1938.17874104, 1312.78304249, 2610.22429589, 1353.5388817 ,\n",
       "        1827.22418717, 1964.33099671, 2208.3193399 , 2149.01098857,\n",
       "        1956.68599992, 2204.58517155, 2549.79211797, 1854.25758242,\n",
       "        1068.65174358, 1725.63465651, 2126.42030555, 1996.31809013]))"
      ]
     },
     "execution_count": 13,
     "metadata": {},
     "output_type": "execute_result"
    }
   ],
   "source": [
    "# Calculate prediction interval\n",
    "y_test_interval_pred_left = y_test_pred - quantile\n",
    "y_test_interval_pred_right = y_test_pred + quantile\n",
    "y_test_interval_pred_left, y_test_interval_pred_right"
   ]
  },
  {
   "cell_type": "markdown",
   "id": "4347fad6",
   "metadata": {},
   "source": [
    "Tổng hợp và biểu diễn kết quả dưới dạng bảng.\n",
    "\n",
    "- `real` là giá trị đúng của nhãn trên tập test (`y_test`).\n",
    "- `coverage[i]` $=1$ nếu giá trị đúng của tập test (`real[i]`) thuộc khoảng dự đoán (từ `y_test_interval_pred_left[i]` cho đến `y_test_interval_pred_right[i]`)."
   ]
  },
  {
   "cell_type": "code",
   "execution_count": 14,
   "id": "3defaf2f",
   "metadata": {},
   "outputs": [
    {
     "data": {
      "text/html": [
       "<div>\n",
       "<style scoped>\n",
       "    .dataframe tbody tr th:only-of-type {\n",
       "        vertical-align: middle;\n",
       "    }\n",
       "\n",
       "    .dataframe tbody tr th {\n",
       "        vertical-align: top;\n",
       "    }\n",
       "\n",
       "    .dataframe thead th {\n",
       "        text-align: right;\n",
       "    }\n",
       "</style>\n",
       "<table border=\"1\" class=\"dataframe\">\n",
       "  <thead>\n",
       "    <tr style=\"text-align: right;\">\n",
       "      <th></th>\n",
       "      <th>actual</th>\n",
       "      <th>lower_interval</th>\n",
       "      <th>upper_interval</th>\n",
       "      <th>predicted</th>\n",
       "      <th>coverage</th>\n",
       "    </tr>\n",
       "  </thead>\n",
       "  <tbody>\n",
       "    <tr>\n",
       "      <th>0</th>\n",
       "      <td>1708.0</td>\n",
       "      <td>562.950468</td>\n",
       "      <td>2195.582510</td>\n",
       "      <td>1379.266489</td>\n",
       "      <td>1</td>\n",
       "    </tr>\n",
       "    <tr>\n",
       "      <th>1</th>\n",
       "      <td>244.0</td>\n",
       "      <td>268.998361</td>\n",
       "      <td>1901.630403</td>\n",
       "      <td>1085.314382</td>\n",
       "      <td>0</td>\n",
       "    </tr>\n",
       "    <tr>\n",
       "      <th>2</th>\n",
       "      <td>1900.0</td>\n",
       "      <td>556.518171</td>\n",
       "      <td>2189.150213</td>\n",
       "      <td>1372.834192</td>\n",
       "      <td>1</td>\n",
       "    </tr>\n",
       "    <tr>\n",
       "      <th>3</th>\n",
       "      <td>1058.0</td>\n",
       "      <td>418.927409</td>\n",
       "      <td>2051.559451</td>\n",
       "      <td>1235.243430</td>\n",
       "      <td>1</td>\n",
       "    </tr>\n",
       "    <tr>\n",
       "      <th>4</th>\n",
       "      <td>750.0</td>\n",
       "      <td>305.546699</td>\n",
       "      <td>1938.178741</td>\n",
       "      <td>1121.862720</td>\n",
       "      <td>1</td>\n",
       "    </tr>\n",
       "  </tbody>\n",
       "</table>\n",
       "</div>"
      ],
      "text/plain": [
       "   actual  lower_interval  upper_interval    predicted  coverage\n",
       "0  1708.0      562.950468     2195.582510  1379.266489         1\n",
       "1   244.0      268.998361     1901.630403  1085.314382         0\n",
       "2  1900.0      556.518171     2189.150213  1372.834192         1\n",
       "3  1058.0      418.927409     2051.559451  1235.243430         1\n",
       "4   750.0      305.546699     1938.178741  1121.862720         1"
      ]
     },
     "execution_count": 14,
     "metadata": {},
     "output_type": "execute_result"
    }
   ],
   "source": [
    "# Summarize the result of conformal prediction on test set\n",
    "real = y_test.values\n",
    "coverage = [0]*len(y_test)\n",
    "for i in range(len(y_test)):\n",
    "    if (y_test_interval_pred_left[i] <= real[i]) \\\n",
    "        and (real[i] <= y_test_interval_pred_right[i]):\n",
    "        coverage[i] = 1\n",
    "result = pd.DataFrame(list(zip(real, y_test_interval_pred_left, y_test_interval_pred_right, y_test_pred, coverage)),\n",
    "                  columns=['actual', 'lower_interval', 'upper_interval', 'predicted', 'coverage'])\n",
    "result[:5]"
   ]
  },
  {
   "cell_type": "markdown",
   "id": "8d559930",
   "metadata": {},
   "source": [
    "Tính toán độ phủ của tập dự đoán của mô hình trên tập test."
   ]
  },
  {
   "cell_type": "code",
   "execution_count": 15,
   "id": "991c493f",
   "metadata": {},
   "outputs": [
    {
     "name": "stdout",
     "output_type": "stream",
     "text": [
      "Coverage rate = 0.9\n"
     ]
    }
   ],
   "source": [
    "print(\"Coverage rate =\", sum(result.coverage)/len(result.coverage))"
   ]
  },
  {
   "cell_type": "markdown",
   "id": "ba6ce924",
   "metadata": {},
   "source": [
    "### <a id='2.2'>2.2. Phương pháp Jackknife+"
   ]
  },
  {
   "cell_type": "markdown",
   "id": "d942250c",
   "metadata": {},
   "source": [
    "Phương pháp jackknife+ dựa trên việc xây dựng một tập hợp các mô hình leave-one-out. Việc ước lượng khoảng dự đoán được thực hiện trong ba bước chính:\n",
    "\n",
    "- Đối với mỗi trường hợp $i = 1, ..., n$ trong tập huấn luyện, chúng ta điều chỉnh hàm hồi quy $\\hat{\\mu}_{-i}$ trên toàn bộ tập huấn luyện với điểm thứ $i$ bị loại bỏ, tạo ra $n$ mô hình leave-one-out.\n",
    "- Các leave-one-out \"conformity score\" tuơng ứng được tính toán cho mỗi điểm thứ $i$ là $R_i^{\\rm LOO} = |Y_i - \\hat{\\mu}_{-i}(X_i)|.$\n",
    "- Kết quả của khoảng tin cậy có thể được tóm tắt như sau:\n",
    "$$\\hat{C}_{n, \\alpha}^{\\rm jackknife+}(X_{n+1}) = [ \\hat{q}_{n, \\alpha}^-\\{\\hat{\\mu}_{-i}(X_{n+1}) - R_i^{\\rm LOO} \\}, \\hat{q}_{n, \\alpha}^+\\{\\hat{\\mu}_{-i}(X_{n+1}) + R_i^{\\rm LOO} \\}]$$\n",
    "\n",
    "với $\\hat{q}_{n, \\alpha}^-$ là $\\alpha$ quantile và $\\hat{q}_{n, \\alpha}^+$ là $(1-\\alpha)$ quantile của phân phối.\n",
    "\n",
    "Như mô tả trong <a href='#4'>[1]</a>, phương pháp này đảm bảo một độ ổn định cao hơn với mức bao phủ là $1-2\\alpha$ cho một mức bao phủ mục tiêu là $1-\\alpha$, mà không có bất kỳ giả định trước nào về phân phối của dữ liệu $(X, Y)$ hay về mô hình dự đoán."
   ]
  },
  {
   "cell_type": "code",
   "execution_count": 16,
   "id": "e0d7a156",
   "metadata": {},
   "outputs": [
    {
     "data": {
      "text/plain": [
       "(array([ 603.0145057 ,  308.53234633,  595.42379169,  454.39097155,\n",
       "         345.88375788, -277.88893851, 1010.17833774, -237.256515  ,\n",
       "         235.53126522,  369.19449956,  612.72912567,  555.85375271,\n",
       "         362.35385525,  609.46619779,  953.65849813,  261.90611912,\n",
       "        -525.54532996,  129.44328248,  535.1203339 ,  401.95710949]),\n",
       " array([2148.71315898, 1853.43784678, 2140.32929214, 1999.69520366,\n",
       "        1890.78925832, 1267.55248878, 2559.77885028, 1307.07826061,\n",
       "        1780.25523287, 1914.1       , 2157.63462611, 2102.12138585,\n",
       "        1907.25935569, 2154.37169823, 2504.17472326, 1813.13249998,\n",
       "        1023.52045864, 1677.093336  , 2080.02583434, 1950.33149203]))"
      ]
     },
     "execution_count": 16,
     "metadata": {},
     "output_type": "execute_result"
    }
   ],
   "source": [
    "import numpy as np\n",
    "from sklearn.linear_model import LinearRegression\n",
    "\n",
    "def fit_jackknife_models(X, Y):\n",
    "    n = len(X)\n",
    "    models = []\n",
    "    loo_predictions = np.zeros(n)\n",
    "    for i in range(n):\n",
    "        X_loo, Y_loo = X.drop(index=i), Y.drop(index=i)\n",
    "        model = LinearRegression().fit(X_loo.values, Y_loo)\n",
    "        \n",
    "        loo_predictions[i] = np.abs(Y.iloc[i] - model.predict(X.iloc[i, :].values.reshape(1, -1)))\n",
    "\n",
    "        models.append(model)\n",
    "\n",
    "    return models, loo_predictions\n",
    "\n",
    "def predict_jackknife_plus(models, loo_predictions, X, alpha):\n",
    "    n = len(models)\n",
    "    Y_pred = np.zeros((n, len(X)))\n",
    "    for i, model in enumerate(models):\n",
    "        Y_pred[i, :] = model.predict(X.values)\n",
    "\n",
    "    prediction_interval_lower = np.percentile(Y_pred - loo_predictions.reshape(-1, 1), alpha  * 100, axis=0, method='lower')\n",
    "    prediction_interval_upper = np.percentile(Y_pred + loo_predictions.reshape(-1, 1), (1 - alpha) * 100, axis=0, method='higher')\n",
    "\n",
    "    return prediction_interval_lower, prediction_interval_upper\n",
    "\n",
    "alpha = 0.1\n",
    "\n",
    "# Fit models and calculate leave-one-out predictions\n",
    "models, loo_predictions = fit_jackknife_models(X_train.reset_index(drop=True), y_train.reset_index(drop=True))\n",
    "\n",
    "# Predict and get prediction interval\n",
    "y_test_interval_pred_left, y_test_interval_pred_right = predict_jackknife_plus(models, loo_predictions, X_test.reset_index(drop=True), alpha)\n",
    "y_test_interval_pred_left, y_test_interval_pred_right"
   ]
  },
  {
   "cell_type": "markdown",
   "id": "c4a47632",
   "metadata": {},
   "source": [
    "Tổng hợp và biểu diễn kết quả dưới dạng bảng.\n",
    "\n",
    "- `real` là giá trị đúng của nhãn trên tập test (`y_test`).\n",
    "- `coverage[i]` $=1$ nếu giá trị đúng của tập test (`real[i]`) thuộc khoảng dự đoán (từ `y_test_interval_pred_left[i]` cho đến `y_test_interval_pred_right[i]`)."
   ]
  },
  {
   "cell_type": "code",
   "execution_count": 17,
   "id": "e1b69e86",
   "metadata": {},
   "outputs": [
    {
     "data": {
      "text/html": [
       "<div>\n",
       "<style scoped>\n",
       "    .dataframe tbody tr th:only-of-type {\n",
       "        vertical-align: middle;\n",
       "    }\n",
       "\n",
       "    .dataframe tbody tr th {\n",
       "        vertical-align: top;\n",
       "    }\n",
       "\n",
       "    .dataframe thead th {\n",
       "        text-align: right;\n",
       "    }\n",
       "</style>\n",
       "<table border=\"1\" class=\"dataframe\">\n",
       "  <thead>\n",
       "    <tr style=\"text-align: right;\">\n",
       "      <th></th>\n",
       "      <th>actual</th>\n",
       "      <th>lower_interval</th>\n",
       "      <th>upper_interval</th>\n",
       "      <th>predicted</th>\n",
       "      <th>coverage</th>\n",
       "    </tr>\n",
       "  </thead>\n",
       "  <tbody>\n",
       "    <tr>\n",
       "      <th>0</th>\n",
       "      <td>1708.0</td>\n",
       "      <td>603.014506</td>\n",
       "      <td>2148.713159</td>\n",
       "      <td>1379.266489</td>\n",
       "      <td>1</td>\n",
       "    </tr>\n",
       "    <tr>\n",
       "      <th>1</th>\n",
       "      <td>244.0</td>\n",
       "      <td>308.532346</td>\n",
       "      <td>1853.437847</td>\n",
       "      <td>1085.314382</td>\n",
       "      <td>0</td>\n",
       "    </tr>\n",
       "    <tr>\n",
       "      <th>2</th>\n",
       "      <td>1900.0</td>\n",
       "      <td>595.423792</td>\n",
       "      <td>2140.329292</td>\n",
       "      <td>1372.834192</td>\n",
       "      <td>1</td>\n",
       "    </tr>\n",
       "    <tr>\n",
       "      <th>3</th>\n",
       "      <td>1058.0</td>\n",
       "      <td>454.390972</td>\n",
       "      <td>1999.695204</td>\n",
       "      <td>1235.243430</td>\n",
       "      <td>1</td>\n",
       "    </tr>\n",
       "    <tr>\n",
       "      <th>4</th>\n",
       "      <td>750.0</td>\n",
       "      <td>345.883758</td>\n",
       "      <td>1890.789258</td>\n",
       "      <td>1121.862720</td>\n",
       "      <td>1</td>\n",
       "    </tr>\n",
       "  </tbody>\n",
       "</table>\n",
       "</div>"
      ],
      "text/plain": [
       "   actual  lower_interval  upper_interval    predicted  coverage\n",
       "0  1708.0      603.014506     2148.713159  1379.266489         1\n",
       "1   244.0      308.532346     1853.437847  1085.314382         0\n",
       "2  1900.0      595.423792     2140.329292  1372.834192         1\n",
       "3  1058.0      454.390972     1999.695204  1235.243430         1\n",
       "4   750.0      345.883758     1890.789258  1121.862720         1"
      ]
     },
     "execution_count": 17,
     "metadata": {},
     "output_type": "execute_result"
    }
   ],
   "source": [
    "# Summarize the result of conformal prediction on test set\n",
    "real = y_test.values\n",
    "coverage = [0]*len(y_test)\n",
    "for i in range(len(y_test)):\n",
    "    if (y_test_interval_pred_left[i] <= real[i]) \\\n",
    "        and (real[i] <= y_test_interval_pred_right[i]):\n",
    "        coverage[i] = 1\n",
    "result = pd.DataFrame(list(zip(real, y_test_interval_pred_left, y_test_interval_pred_right, y_test_pred, coverage)),\n",
    "                  columns=['actual', 'lower_interval', 'upper_interval', 'predicted', 'coverage'])\n",
    "result[:5]"
   ]
  },
  {
   "cell_type": "markdown",
   "id": "fd1063e9",
   "metadata": {},
   "source": [
    "Tính toán độ phủ của tập dự đoán của mô hình trên tập test."
   ]
  },
  {
   "cell_type": "code",
   "execution_count": 18,
   "id": "51eff1bb",
   "metadata": {},
   "outputs": [
    {
     "name": "stdout",
     "output_type": "stream",
     "text": [
      "Coverage rate = 0.9\n"
     ]
    }
   ],
   "source": [
    "print(\"Coverage rate =\", sum(result.coverage)/len(result.coverage))"
   ]
  },
  {
   "cell_type": "markdown",
   "id": "12827177",
   "metadata": {},
   "source": [
    "### <a id='2.3'>2.3. Phương pháp Jackknife-minmax"
   ]
  },
  {
   "cell_type": "markdown",
   "id": "26b56145",
   "metadata": {},
   "source": [
    "Phương pháp jackknife-minmax mang lại một lựa chọn ít đảm bảo hơn một chút vì nó sử dụng các giá trị tối thiểu và tối đa của các dự đoán leave-one-out để tính toán khoảng dự đoán. Các khoảng dự đoán ước lượng có thể được định nghĩa như sau:\n",
    "\n",
    "$$\\hat{C}_{n, \\alpha}^{\\rm jackknife-mm}(X_{n+1}) = [\\min \\hat{\\mu}_{-i}(X_{n+1}) - \\hat{q}_{n, \\alpha}^+\\{R_I^{\\rm LOO} \\}, \\max \\hat{\\mu}_{-i}(X_{n+1}) + \\hat{q}_{n, \\alpha}^+\\{R_I^{\\rm LOO} \\}]$$\n",
    "\n",
    "Như được chứng minh bởi <a href='#4'>[1]</a>, phương pháp này đảm bảo mức bao phủ là $1-\\alpha$ cho một mức bao phủ mục tiêu là $1-\\alpha$."
   ]
  },
  {
   "cell_type": "code",
   "execution_count": 19,
   "id": "a3dfa458",
   "metadata": {},
   "outputs": [
    {
     "data": {
      "text/plain": [
       "(array([ 595.40468289,  292.68622671,  577.88567159,  428.00781857,\n",
       "         324.4238697 , -288.13241873, 1004.36283751, -281.9373881 ,\n",
       "         217.07971174,  365.62214371,  587.16551162,  547.51602897,\n",
       "         352.94323788,  596.29131047,  940.8003044 ,  246.68208597,\n",
       "        -552.82761018,  125.3163035 ,  511.08821026,  391.4603147 ]),\n",
       " array([2177.56917673, 1873.13749538, 2158.5355551 , 2069.85607791,\n",
       "        1911.97374904, 1280.15564247, 2602.06854299, 1326.49174844,\n",
       "        1799.27610919, 1938.0548635 , 2225.45039393, 2135.58973182,\n",
       "        1922.53104847, 2181.79066543, 2525.99218532, 1850.43105965,\n",
       "        1038.39359322, 1709.19390081, 2101.40008378, 1987.03574646]))"
      ]
     },
     "execution_count": 19,
     "metadata": {},
     "output_type": "execute_result"
    }
   ],
   "source": [
    "import numpy as np\n",
    "from sklearn.linear_model import LinearRegression\n",
    "\n",
    "def fit_jackknife_models(X, Y, alpha):\n",
    "    n = len(X)\n",
    "    models = []\n",
    "    loo_predictions = np.zeros(n)\n",
    "\n",
    "    for i in range(n):\n",
    "        X_loo, Y_loo = X.drop(index=i), Y.drop(index=i)\n",
    "        model = LinearRegression().fit(X_loo.values, Y_loo)\n",
    "        \n",
    "        # Reshape X[i, :] to make it 2D before prediction\n",
    "        loo_predictions[i] = np.abs(Y.iloc[i] - model.predict(X.iloc[i, :].values.reshape(1, -1)))\n",
    "\n",
    "        models.append(model)\n",
    "\n",
    "    quantile_value = np.percentile(loo_predictions, (1 - alpha) * 100, method='higher')\n",
    "\n",
    "    return models, quantile_value\n",
    "\n",
    "def predict_jackknife_minmax(models, quantile_value, X, alpha):\n",
    "    n = len(models)\n",
    "    Y_pred = np.zeros((n, len(X)))\n",
    "    \n",
    "    for i, model in enumerate(models):\n",
    "        Y_pred[i, :] = model.predict(X.values)\n",
    "\n",
    "    min_values = np.min(Y_pred, axis=0) - quantile_value\n",
    "    max_values = np.max(Y_pred, axis=0) + quantile_value\n",
    "\n",
    "    return min_values, max_values\n",
    "\n",
    "alpha = 0.1\n",
    "\n",
    "# Fit models and calculate leave-one-out predictions\n",
    "models, quantile_value = fit_jackknife_models(X_train.reset_index(drop=True), y_train.reset_index(drop=True), alpha)\n",
    "\n",
    "# Predict and get prediction interval using jackknife-minmax method\n",
    "y_test_interval_pred_left, y_test_interval_pred_right = predict_jackknife_minmax(models, quantile_value, X_test.reset_index(drop=True), alpha)\n",
    "y_test_interval_pred_left, y_test_interval_pred_right"
   ]
  },
  {
   "cell_type": "markdown",
   "id": "fc6573c5",
   "metadata": {},
   "source": [
    "Tổng hợp và biểu diễn kết quả dưới dạng bảng.\n",
    "\n",
    "- `real` là giá trị đúng của nhãn trên tập test (`y_test`).\n",
    "- `coverage[i]` $=1$ nếu giá trị đúng của tập test (`real[i]`) thuộc khoảng dự đoán (từ `y_test_interval_pred_left[i]` cho đến `y_test_interval_pred_right[i]`)."
   ]
  },
  {
   "cell_type": "code",
   "execution_count": 20,
   "id": "ce5f4eaf",
   "metadata": {
    "scrolled": true
   },
   "outputs": [
    {
     "data": {
      "text/html": [
       "<div>\n",
       "<style scoped>\n",
       "    .dataframe tbody tr th:only-of-type {\n",
       "        vertical-align: middle;\n",
       "    }\n",
       "\n",
       "    .dataframe tbody tr th {\n",
       "        vertical-align: top;\n",
       "    }\n",
       "\n",
       "    .dataframe thead th {\n",
       "        text-align: right;\n",
       "    }\n",
       "</style>\n",
       "<table border=\"1\" class=\"dataframe\">\n",
       "  <thead>\n",
       "    <tr style=\"text-align: right;\">\n",
       "      <th></th>\n",
       "      <th>actual</th>\n",
       "      <th>lower_interval</th>\n",
       "      <th>upper_interval</th>\n",
       "      <th>predicted</th>\n",
       "      <th>coverage</th>\n",
       "    </tr>\n",
       "  </thead>\n",
       "  <tbody>\n",
       "    <tr>\n",
       "      <th>0</th>\n",
       "      <td>1708.0</td>\n",
       "      <td>595.404683</td>\n",
       "      <td>2177.569177</td>\n",
       "      <td>1379.266489</td>\n",
       "      <td>1</td>\n",
       "    </tr>\n",
       "    <tr>\n",
       "      <th>1</th>\n",
       "      <td>244.0</td>\n",
       "      <td>292.686227</td>\n",
       "      <td>1873.137495</td>\n",
       "      <td>1085.314382</td>\n",
       "      <td>0</td>\n",
       "    </tr>\n",
       "    <tr>\n",
       "      <th>2</th>\n",
       "      <td>1900.0</td>\n",
       "      <td>577.885672</td>\n",
       "      <td>2158.535555</td>\n",
       "      <td>1372.834192</td>\n",
       "      <td>1</td>\n",
       "    </tr>\n",
       "    <tr>\n",
       "      <th>3</th>\n",
       "      <td>1058.0</td>\n",
       "      <td>428.007819</td>\n",
       "      <td>2069.856078</td>\n",
       "      <td>1235.243430</td>\n",
       "      <td>1</td>\n",
       "    </tr>\n",
       "    <tr>\n",
       "      <th>4</th>\n",
       "      <td>750.0</td>\n",
       "      <td>324.423870</td>\n",
       "      <td>1911.973749</td>\n",
       "      <td>1121.862720</td>\n",
       "      <td>1</td>\n",
       "    </tr>\n",
       "  </tbody>\n",
       "</table>\n",
       "</div>"
      ],
      "text/plain": [
       "   actual  lower_interval  upper_interval    predicted  coverage\n",
       "0  1708.0      595.404683     2177.569177  1379.266489         1\n",
       "1   244.0      292.686227     1873.137495  1085.314382         0\n",
       "2  1900.0      577.885672     2158.535555  1372.834192         1\n",
       "3  1058.0      428.007819     2069.856078  1235.243430         1\n",
       "4   750.0      324.423870     1911.973749  1121.862720         1"
      ]
     },
     "execution_count": 20,
     "metadata": {},
     "output_type": "execute_result"
    }
   ],
   "source": [
    "# Summarize the result of conformal prediction on test set\n",
    "real = y_test.values\n",
    "coverage = [0]*len(y_test)\n",
    "for i in range(len(y_test)):\n",
    "    if (y_test_interval_pred_left[i] <= real[i]) \\\n",
    "        and (real[i] <= y_test_interval_pred_right[i]):\n",
    "        coverage[i] = 1\n",
    "result = pd.DataFrame(list(zip(real, y_test_interval_pred_left, y_test_interval_pred_right, y_test_pred, coverage)),\n",
    "                  columns=['actual', 'lower_interval', 'upper_interval', 'predicted', 'coverage'])\n",
    "result[:5]"
   ]
  },
  {
   "cell_type": "markdown",
   "id": "5e28bf9e",
   "metadata": {},
   "source": [
    "Tính toán độ phủ của tập dự đoán của mô hình trên tập test."
   ]
  },
  {
   "cell_type": "code",
   "execution_count": 21,
   "id": "b1ecb5a9",
   "metadata": {},
   "outputs": [
    {
     "name": "stdout",
     "output_type": "stream",
     "text": [
      "Coverage rate = 0.9\n"
     ]
    }
   ],
   "source": [
    "print(\"Coverage rate =\", sum(result.coverage)/len(result.coverage))"
   ]
  },
  {
   "cell_type": "markdown",
   "id": "a2988df1",
   "metadata": {},
   "source": [
    "## <a id='3'>3. Conformal Prediction sử dụng thư viện MAPIE"
   ]
  },
  {
   "cell_type": "markdown",
   "id": "45866cfd",
   "metadata": {},
   "source": [
    "### <a id='3.1'>3.1. Phương pháp Split"
   ]
  },
  {
   "cell_type": "markdown",
   "id": "36db327e",
   "metadata": {},
   "source": [
    "Sử dụng `model` đã xây dựng ở trên, ta sử dụng thư viện MAPIE để thực hiện conformal prediction. Phương pháp Split có tên là `method=\"base\"` trong MAPIE.\n",
    "\n",
    "Sử dụng cùng $\\alpha=0.1$, ta fit mô hình MAPIE với tập calibrate và dự đoán trên tập test để nhận được `y_pis` (chính là `y_test_interval_pred_left` và `y_test_interval_pred_right` đã được tính ở phần trước). "
   ]
  },
  {
   "cell_type": "code",
   "execution_count": 22,
   "id": "83cbdedb",
   "metadata": {
    "scrolled": true
   },
   "outputs": [
    {
     "data": {
      "text/plain": [
       "(array([ 562.9504679 ,  268.99836133,  556.51817148,  418.92740935,\n",
       "         305.54669914, -319.84899942,  977.59225398, -279.0931602 ,\n",
       "         194.59214527,  331.69895481,  575.687298  ,  516.37894667,\n",
       "         324.05395802,  571.95312965,  917.16007607,  221.62554052,\n",
       "        -563.98029832,   93.00261461,  493.78826365,  363.68604823]),\n",
       " array([2195.5825098 , 1901.63040323, 2189.15021338, 2051.55945126,\n",
       "        1938.17874104, 1312.78304249, 2610.22429589, 1353.5388817 ,\n",
       "        1827.22418717, 1964.33099671, 2208.3193399 , 2149.01098857,\n",
       "        1956.68599992, 2204.58517155, 2549.79211797, 1854.25758242,\n",
       "        1068.65174358, 1725.63465651, 2126.42030555, 1996.31809013]))"
      ]
     },
     "execution_count": 22,
     "metadata": {},
     "output_type": "execute_result"
    }
   ],
   "source": [
    "from mapie.regression import MapieRegressor\n",
    "\n",
    "mapie_regressor = MapieRegressor(model, cv=\"prefit\", method=\"base\")\n",
    "mapie_regressor.fit(X_calibrate, y_calibrate)\n",
    "\n",
    "alpha = 0.1\n",
    "y_test_pred, y_pis = mapie_regressor.predict(X_test, alpha=alpha)\n",
    "y_pis = np.squeeze(y_pis)\n",
    "y_test_interval_pred_left = y_pis[:, 0]\n",
    "y_test_interval_pred_right = y_pis[:, 1]\n",
    "y_test_interval_pred_left, y_test_interval_pred_right"
   ]
  },
  {
   "cell_type": "markdown",
   "id": "6a251d49",
   "metadata": {},
   "source": [
    "Tương tự như phần trước, ta tổng hợp và biểu diễn kết quả dưới dạng bảng.\n",
    "\n",
    "- `real` là giá trị đúng của nhãn trên tập test (`y_test`).\n",
    "- `coverage[i]` $=1$ nếu giá trị đúng của tập test (`real[i]`) thuộc khoảng dự đoán (từ `y_test_interval_pred_left[i]` cho đến `y_test_interval_pred_right[i]`)."
   ]
  },
  {
   "cell_type": "code",
   "execution_count": 23,
   "id": "99729b64",
   "metadata": {},
   "outputs": [
    {
     "data": {
      "text/html": [
       "<div>\n",
       "<style scoped>\n",
       "    .dataframe tbody tr th:only-of-type {\n",
       "        vertical-align: middle;\n",
       "    }\n",
       "\n",
       "    .dataframe tbody tr th {\n",
       "        vertical-align: top;\n",
       "    }\n",
       "\n",
       "    .dataframe thead th {\n",
       "        text-align: right;\n",
       "    }\n",
       "</style>\n",
       "<table border=\"1\" class=\"dataframe\">\n",
       "  <thead>\n",
       "    <tr style=\"text-align: right;\">\n",
       "      <th></th>\n",
       "      <th>actual</th>\n",
       "      <th>lower_interval</th>\n",
       "      <th>upper_interval</th>\n",
       "      <th>predicted</th>\n",
       "      <th>coverage</th>\n",
       "    </tr>\n",
       "  </thead>\n",
       "  <tbody>\n",
       "    <tr>\n",
       "      <th>0</th>\n",
       "      <td>1708.0</td>\n",
       "      <td>562.950468</td>\n",
       "      <td>2195.582510</td>\n",
       "      <td>1379.266489</td>\n",
       "      <td>1</td>\n",
       "    </tr>\n",
       "    <tr>\n",
       "      <th>1</th>\n",
       "      <td>244.0</td>\n",
       "      <td>268.998361</td>\n",
       "      <td>1901.630403</td>\n",
       "      <td>1085.314382</td>\n",
       "      <td>0</td>\n",
       "    </tr>\n",
       "    <tr>\n",
       "      <th>2</th>\n",
       "      <td>1900.0</td>\n",
       "      <td>556.518171</td>\n",
       "      <td>2189.150213</td>\n",
       "      <td>1372.834192</td>\n",
       "      <td>1</td>\n",
       "    </tr>\n",
       "    <tr>\n",
       "      <th>3</th>\n",
       "      <td>1058.0</td>\n",
       "      <td>418.927409</td>\n",
       "      <td>2051.559451</td>\n",
       "      <td>1235.243430</td>\n",
       "      <td>1</td>\n",
       "    </tr>\n",
       "    <tr>\n",
       "      <th>4</th>\n",
       "      <td>750.0</td>\n",
       "      <td>305.546699</td>\n",
       "      <td>1938.178741</td>\n",
       "      <td>1121.862720</td>\n",
       "      <td>1</td>\n",
       "    </tr>\n",
       "  </tbody>\n",
       "</table>\n",
       "</div>"
      ],
      "text/plain": [
       "   actual  lower_interval  upper_interval    predicted  coverage\n",
       "0  1708.0      562.950468     2195.582510  1379.266489         1\n",
       "1   244.0      268.998361     1901.630403  1085.314382         0\n",
       "2  1900.0      556.518171     2189.150213  1372.834192         1\n",
       "3  1058.0      418.927409     2051.559451  1235.243430         1\n",
       "4   750.0      305.546699     1938.178741  1121.862720         1"
      ]
     },
     "execution_count": 23,
     "metadata": {},
     "output_type": "execute_result"
    }
   ],
   "source": [
    "# Summarize the result of conformal prediction on test set\n",
    "real = y_test.values\n",
    "coverage = [0]*len(y_test)\n",
    "for i in range(len(y_test)):\n",
    "    if (y_test_interval_pred_left[i] <= real[i]) \\\n",
    "        and (real[i] <= y_test_interval_pred_right[i]):\n",
    "        coverage[i] = 1\n",
    "result = pd.DataFrame(list(zip(real, y_test_interval_pred_left, y_test_interval_pred_right, y_test_pred, coverage)),\n",
    "                  columns=['actual', 'lower_interval', 'upper_interval', 'predicted', 'coverage'])\n",
    "result[:5]"
   ]
  },
  {
   "cell_type": "markdown",
   "id": "0dc005a6",
   "metadata": {},
   "source": [
    "Độ phủ coverage rate tính được sử dụng thư viện MAPIE bằng với phương pháp tự cài đặt ở trên."
   ]
  },
  {
   "cell_type": "code",
   "execution_count": 24,
   "id": "4be8311c",
   "metadata": {
    "scrolled": true
   },
   "outputs": [
    {
     "name": "stdout",
     "output_type": "stream",
     "text": [
      "Coverage rate = [0.9]\n"
     ]
    }
   ],
   "source": [
    "from mapie.metrics import regression_coverage_score_v2\n",
    "\n",
    "coverage_scores = regression_coverage_score_v2(y_test, y_pis)\n",
    "print(\"Coverage rate =\", coverage_scores)"
   ]
  },
  {
   "cell_type": "markdown",
   "id": "3a18498e",
   "metadata": {},
   "source": [
    "### <a id='3.2'>3.2. Phương pháp Jackknife+"
   ]
  },
  {
   "cell_type": "code",
   "execution_count": 25,
   "id": "540469b0",
   "metadata": {
    "scrolled": true
   },
   "outputs": [
    {
     "data": {
      "text/plain": [
       "(array([ 603.0145057 ,  308.53234633,  595.42379169,  454.39097155,\n",
       "         345.88375788, -277.88893851, 1010.17833774, -237.256515  ,\n",
       "         235.53126522,  369.19449956,  612.72912567,  555.85375271,\n",
       "         362.35385525,  609.46619779,  953.65849813,  261.90611912,\n",
       "        -525.54532996,  129.44328248,  535.1203339 ,  401.95710949]),\n",
       " array([2148.71315898, 1853.43784678, 2140.32929214, 1999.69520366,\n",
       "        1890.78925832, 1267.55248878, 2559.77885028, 1307.07826061,\n",
       "        1780.25523287, 1914.1       , 2157.63462611, 2102.12138585,\n",
       "        1907.25935569, 2154.37169823, 2504.17472326, 1813.13249998,\n",
       "        1023.52045864, 1677.093336  , 2080.02583434, 1950.33149203]))"
      ]
     },
     "execution_count": 25,
     "metadata": {},
     "output_type": "execute_result"
    }
   ],
   "source": [
    "from mapie.regression import MapieRegressor\n",
    "from sklearn.model_selection import LeaveOneOut\n",
    "\n",
    "mapie_regressor = MapieRegressor(model, cv=LeaveOneOut(), method=\"plus\")\n",
    "mapie_regressor.fit(X_train, y_train)\n",
    "\n",
    "alpha = 0.1\n",
    "y_test_pred, y_pis = mapie_regressor.predict(X_test, alpha=alpha)\n",
    "y_pis = np.squeeze(y_pis)\n",
    "y_test_interval_pred_left = y_pis[:, 0]\n",
    "y_test_interval_pred_right = y_pis[:, 1]\n",
    "y_test_interval_pred_left, y_test_interval_pred_right"
   ]
  },
  {
   "cell_type": "markdown",
   "id": "ad0d2f25",
   "metadata": {},
   "source": [
    "Tương tự như phần trước, ta tổng hợp và biểu diễn kết quả dưới dạng bảng.\n",
    "\n",
    "- `real` là giá trị đúng của nhãn trên tập test (`y_test`).\n",
    "- `coverage[i]` $=1$ nếu giá trị đúng của tập test (`real[i]`) thuộc khoảng dự đoán (từ `y_test_interval_pred_left[i]` cho đến `y_test_interval_pred_right[i]`)."
   ]
  },
  {
   "cell_type": "code",
   "execution_count": 26,
   "id": "0494f398",
   "metadata": {
    "scrolled": true
   },
   "outputs": [
    {
     "data": {
      "text/html": [
       "<div>\n",
       "<style scoped>\n",
       "    .dataframe tbody tr th:only-of-type {\n",
       "        vertical-align: middle;\n",
       "    }\n",
       "\n",
       "    .dataframe tbody tr th {\n",
       "        vertical-align: top;\n",
       "    }\n",
       "\n",
       "    .dataframe thead th {\n",
       "        text-align: right;\n",
       "    }\n",
       "</style>\n",
       "<table border=\"1\" class=\"dataframe\">\n",
       "  <thead>\n",
       "    <tr style=\"text-align: right;\">\n",
       "      <th></th>\n",
       "      <th>actual</th>\n",
       "      <th>lower_interval</th>\n",
       "      <th>upper_interval</th>\n",
       "      <th>predicted</th>\n",
       "      <th>coverage</th>\n",
       "    </tr>\n",
       "  </thead>\n",
       "  <tbody>\n",
       "    <tr>\n",
       "      <th>0</th>\n",
       "      <td>1708.0</td>\n",
       "      <td>603.014506</td>\n",
       "      <td>2148.713159</td>\n",
       "      <td>1379.266489</td>\n",
       "      <td>1</td>\n",
       "    </tr>\n",
       "    <tr>\n",
       "      <th>1</th>\n",
       "      <td>244.0</td>\n",
       "      <td>308.532346</td>\n",
       "      <td>1853.437847</td>\n",
       "      <td>1085.314382</td>\n",
       "      <td>0</td>\n",
       "    </tr>\n",
       "    <tr>\n",
       "      <th>2</th>\n",
       "      <td>1900.0</td>\n",
       "      <td>595.423792</td>\n",
       "      <td>2140.329292</td>\n",
       "      <td>1372.834192</td>\n",
       "      <td>1</td>\n",
       "    </tr>\n",
       "    <tr>\n",
       "      <th>3</th>\n",
       "      <td>1058.0</td>\n",
       "      <td>454.390972</td>\n",
       "      <td>1999.695204</td>\n",
       "      <td>1235.243430</td>\n",
       "      <td>1</td>\n",
       "    </tr>\n",
       "    <tr>\n",
       "      <th>4</th>\n",
       "      <td>750.0</td>\n",
       "      <td>345.883758</td>\n",
       "      <td>1890.789258</td>\n",
       "      <td>1121.862720</td>\n",
       "      <td>1</td>\n",
       "    </tr>\n",
       "  </tbody>\n",
       "</table>\n",
       "</div>"
      ],
      "text/plain": [
       "   actual  lower_interval  upper_interval    predicted  coverage\n",
       "0  1708.0      603.014506     2148.713159  1379.266489         1\n",
       "1   244.0      308.532346     1853.437847  1085.314382         0\n",
       "2  1900.0      595.423792     2140.329292  1372.834192         1\n",
       "3  1058.0      454.390972     1999.695204  1235.243430         1\n",
       "4   750.0      345.883758     1890.789258  1121.862720         1"
      ]
     },
     "execution_count": 26,
     "metadata": {},
     "output_type": "execute_result"
    }
   ],
   "source": [
    "# Summarize the result of conformal prediction on test set\n",
    "real = y_test.values\n",
    "coverage = [0]*len(y_test)\n",
    "for i in range(len(y_test)):\n",
    "    if (y_test_interval_pred_left[i] <= real[i]) \\\n",
    "        and (real[i] <= y_test_interval_pred_right[i]):\n",
    "        coverage[i] = 1\n",
    "result = pd.DataFrame(list(zip(real, y_test_interval_pred_left, y_test_interval_pred_right, y_test_pred, coverage)),\n",
    "                  columns=['actual', 'lower_interval', 'upper_interval', 'predicted', 'coverage'])\n",
    "result[:5]"
   ]
  },
  {
   "cell_type": "markdown",
   "id": "c49203b6",
   "metadata": {},
   "source": [
    "Độ phủ coverage rate tính được sử dụng thư viện MAPIE bằng với phương pháp tự cài đặt ở trên."
   ]
  },
  {
   "cell_type": "code",
   "execution_count": 27,
   "id": "f246d721",
   "metadata": {
    "scrolled": false
   },
   "outputs": [
    {
     "name": "stdout",
     "output_type": "stream",
     "text": [
      "Coverage rate = [0.9]\n"
     ]
    }
   ],
   "source": [
    "from mapie.metrics import regression_coverage_score_v2\n",
    "\n",
    "coverage_scores = regression_coverage_score_v2(y_test, y_pis)\n",
    "print(\"Coverage rate =\", coverage_scores)"
   ]
  },
  {
   "cell_type": "markdown",
   "id": "82abe487",
   "metadata": {},
   "source": [
    "### <a id='3.3'>3.3. Phương pháp Jackknife-minmax"
   ]
  },
  {
   "cell_type": "code",
   "execution_count": 28,
   "id": "3acbb9c4",
   "metadata": {
    "scrolled": false
   },
   "outputs": [
    {
     "data": {
      "text/plain": [
       "(array([ 595.40468289,  292.68622671,  577.88567159,  428.00781857,\n",
       "         324.4238697 , -288.13241873, 1004.36283751, -281.9373881 ,\n",
       "         217.07971174,  365.62214371,  587.16551162,  547.51602897,\n",
       "         352.94323788,  596.29131047,  940.8003044 ,  246.68208597,\n",
       "        -552.82761018,  125.3163035 ,  511.08821026,  391.4603147 ]),\n",
       " array([2177.56917673, 1873.13749538, 2158.5355551 , 2069.85607791,\n",
       "        1911.97374904, 1280.15564247, 2602.06854299, 1326.49174844,\n",
       "        1799.27610919, 1938.0548635 , 2225.45039393, 2135.58973182,\n",
       "        1922.53104847, 2181.79066543, 2525.99218532, 1850.43105965,\n",
       "        1038.39359322, 1709.19390081, 2101.40008378, 1987.03574646]))"
      ]
     },
     "execution_count": 28,
     "metadata": {},
     "output_type": "execute_result"
    }
   ],
   "source": [
    "from mapie.regression import MapieRegressor\n",
    "from sklearn.model_selection import LeaveOneOut\n",
    "\n",
    "mapie_regressor = MapieRegressor(model, cv=LeaveOneOut(), method=\"minmax\")\n",
    "mapie_regressor.fit(X_train, y_train)\n",
    "\n",
    "alpha = 0.1\n",
    "y_test_pred, y_pis = mapie_regressor.predict(X_test, alpha=alpha)\n",
    "y_pis = np.squeeze(y_pis)\n",
    "y_test_interval_pred_left = y_pis[:, 0]\n",
    "y_test_interval_pred_right = y_pis[:, 1]\n",
    "y_test_interval_pred_left, y_test_interval_pred_right"
   ]
  },
  {
   "cell_type": "markdown",
   "id": "b6c42696",
   "metadata": {},
   "source": [
    "Tương tự như phần trước, ta tổng hợp và biểu diễn kết quả dưới dạng bảng.\n",
    "\n",
    "- `real` là giá trị đúng của nhãn trên tập test (`y_test`).\n",
    "- `coverage[i]` $=1$ nếu giá trị đúng của tập test (`real[i]`) thuộc khoảng dự đoán (từ `y_test_interval_pred_left[i]` cho đến `y_test_interval_pred_right[i]`)."
   ]
  },
  {
   "cell_type": "code",
   "execution_count": 29,
   "id": "c7cc67a0",
   "metadata": {
    "scrolled": false
   },
   "outputs": [
    {
     "data": {
      "text/html": [
       "<div>\n",
       "<style scoped>\n",
       "    .dataframe tbody tr th:only-of-type {\n",
       "        vertical-align: middle;\n",
       "    }\n",
       "\n",
       "    .dataframe tbody tr th {\n",
       "        vertical-align: top;\n",
       "    }\n",
       "\n",
       "    .dataframe thead th {\n",
       "        text-align: right;\n",
       "    }\n",
       "</style>\n",
       "<table border=\"1\" class=\"dataframe\">\n",
       "  <thead>\n",
       "    <tr style=\"text-align: right;\">\n",
       "      <th></th>\n",
       "      <th>actual</th>\n",
       "      <th>lower_interval</th>\n",
       "      <th>upper_interval</th>\n",
       "      <th>predicted</th>\n",
       "      <th>coverage</th>\n",
       "    </tr>\n",
       "  </thead>\n",
       "  <tbody>\n",
       "    <tr>\n",
       "      <th>0</th>\n",
       "      <td>1708.0</td>\n",
       "      <td>595.404683</td>\n",
       "      <td>2177.569177</td>\n",
       "      <td>1379.266489</td>\n",
       "      <td>1</td>\n",
       "    </tr>\n",
       "    <tr>\n",
       "      <th>1</th>\n",
       "      <td>244.0</td>\n",
       "      <td>292.686227</td>\n",
       "      <td>1873.137495</td>\n",
       "      <td>1085.314382</td>\n",
       "      <td>0</td>\n",
       "    </tr>\n",
       "    <tr>\n",
       "      <th>2</th>\n",
       "      <td>1900.0</td>\n",
       "      <td>577.885672</td>\n",
       "      <td>2158.535555</td>\n",
       "      <td>1372.834192</td>\n",
       "      <td>1</td>\n",
       "    </tr>\n",
       "    <tr>\n",
       "      <th>3</th>\n",
       "      <td>1058.0</td>\n",
       "      <td>428.007819</td>\n",
       "      <td>2069.856078</td>\n",
       "      <td>1235.243430</td>\n",
       "      <td>1</td>\n",
       "    </tr>\n",
       "    <tr>\n",
       "      <th>4</th>\n",
       "      <td>750.0</td>\n",
       "      <td>324.423870</td>\n",
       "      <td>1911.973749</td>\n",
       "      <td>1121.862720</td>\n",
       "      <td>1</td>\n",
       "    </tr>\n",
       "  </tbody>\n",
       "</table>\n",
       "</div>"
      ],
      "text/plain": [
       "   actual  lower_interval  upper_interval    predicted  coverage\n",
       "0  1708.0      595.404683     2177.569177  1379.266489         1\n",
       "1   244.0      292.686227     1873.137495  1085.314382         0\n",
       "2  1900.0      577.885672     2158.535555  1372.834192         1\n",
       "3  1058.0      428.007819     2069.856078  1235.243430         1\n",
       "4   750.0      324.423870     1911.973749  1121.862720         1"
      ]
     },
     "execution_count": 29,
     "metadata": {},
     "output_type": "execute_result"
    }
   ],
   "source": [
    "# Summarize the result of conformal prediction on test set\n",
    "real = y_test.values\n",
    "coverage = [0]*len(y_test)\n",
    "for i in range(len(y_test)):\n",
    "    if (y_test_interval_pred_left[i] <= real[i]) \\\n",
    "        and (real[i] <= y_test_interval_pred_right[i]):\n",
    "        coverage[i] = 1\n",
    "result = pd.DataFrame(list(zip(real, y_test_interval_pred_left, y_test_interval_pred_right, y_test_pred, coverage)),\n",
    "                  columns=['actual', 'lower_interval', 'upper_interval', 'predicted', 'coverage'])\n",
    "result[:5]"
   ]
  },
  {
   "cell_type": "markdown",
   "id": "86855a0b",
   "metadata": {},
   "source": [
    "Độ phủ coverage rate tính được sử dụng thư viện MAPIE bằng với phương pháp tự cài đặt ở trên."
   ]
  },
  {
   "cell_type": "code",
   "execution_count": 30,
   "id": "2cd0589d",
   "metadata": {
    "scrolled": false
   },
   "outputs": [
    {
     "name": "stdout",
     "output_type": "stream",
     "text": [
      "Coverage rate = [0.9]\n"
     ]
    }
   ],
   "source": [
    "from mapie.metrics import regression_coverage_score_v2\n",
    "\n",
    "coverage_scores = regression_coverage_score_v2(y_test, y_pis)\n",
    "print(\"Coverage rate =\", coverage_scores)"
   ]
  },
  {
   "cell_type": "markdown",
   "id": "56decd6f",
   "metadata": {},
   "source": [
    "## <a id='4'>4. Tham khảo\n",
    "    \n",
    "- [MAPIE - Theoretical Description Regression](https://mapie.readthedocs.io/en/latest/theoretical_description_regression.html)\n",
    "- [1] Rina Foygel Barber, Emmanuel J. Candès, Aaditya Ramdas, and Ryan J. Tibshirani. “Predictive inference with the jackknife+.” Ann. Statist., 49(1):486–507, February 2021.\n",
    "- [2] Jing Lei, Max G’Sell, Alessandro Rinaldo, Ryan J Tibshirani, and Larry Wasserman. “Distribution-free predictive inference for regression”. Journal of the American Statistical Association, 113(523):1094–1111, 2018."
   ]
  }
 ],
 "metadata": {
  "kernelspec": {
   "display_name": "Python 3 (ipykernel)",
   "language": "python",
   "name": "python3"
  },
  "language_info": {
   "codemirror_mode": {
    "name": "ipython",
    "version": 3
   },
   "file_extension": ".py",
   "mimetype": "text/x-python",
   "name": "python",
   "nbconvert_exporter": "python",
   "pygments_lexer": "ipython3",
   "version": "3.11.5"
  }
 },
 "nbformat": 4,
 "nbformat_minor": 5
}
